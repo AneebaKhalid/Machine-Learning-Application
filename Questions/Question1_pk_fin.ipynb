{
 "cells": [
  {
   "cell_type": "code",
   "execution_count": 1,
   "metadata": {},
   "outputs": [],
   "source": [
    "#sklearn Imports\n",
    "from sklearn.model_selection import train_test_split, cross_val_score\n",
    "from sklearn.metrics import mean_squared_error,confusion_matrix, precision_score, recall_score, auc,roc_curve,roc_auc_score,accuracy_score\n",
    "from sklearn import ensemble, linear_model, neighbors, svm, tree, neural_network\n",
    "from sklearn.pipeline import make_pipeline\n",
    "from sklearn.preprocessing import PolynomialFeatures\n",
    "from sklearn import svm,model_selection, tree, linear_model, neighbors, naive_bayes, ensemble, discriminant_analysis, gaussian_process\n",
    "\n",
    "#Packages\n",
    "import pandas as pd\n",
    "import numpy as np\n",
    "import matplotlib.pyplot as plt\n",
    "import seaborn as sns\n",
    "\n",
    "import warnings\n",
    "warnings.filterwarnings('ignore')"
   ]
  },
  {
   "cell_type": "code",
   "execution_count": 2,
   "metadata": {},
   "outputs": [],
   "source": [
    "#Data Frame and Missing Values\n",
    "df = pd.read_csv('dataset.csv')\n",
    "\n",
    "deu = df[(df.iso == 'DEU') | (df.iso == 'GBR')| (df.iso == 'AUT')| (df.iso == 'BEL')| (df.iso == 'ITA') | (df.iso == 'DNK')| \n",
    "         (df.iso == 'PRT')| (df.iso == 'CHE')| (df.iso == 'SWE') | (df.iso == 'FRA') | (df.iso == 'ESP') | (df.iso == 'NLD')\n",
    "        | (df.iso == 'IRL')| (df.iso == 'NOR')| (df.iso == 'GRC')| (df.iso == 'FIN')]\n",
    "\n",
    "\n",
    "new_data=deu.fillna(deu.mean())"
   ]
  },
  {
   "cell_type": "code",
   "execution_count": 3,
   "metadata": {},
   "outputs": [],
   "source": [
    "#Predictors and Target Value\n",
    "x = new_data[[ 'govvote', 'oppvote', 'partycount', 'right', 'left', 'extr',\n",
    "              'gdppeak', 'frac', 'cpi', 'turnover', 'vetopl', 'dict']]\n",
    "y = new_data.pk_fin"
   ]
  },
  {
   "cell_type": "code",
   "execution_count": 4,
   "metadata": {},
   "outputs": [],
   "source": [
    "#Train Test Split\n",
    "x_train, x_test, y_train, y_test = train_test_split(x,y,test_size=.25,random_state=100)"
   ]
  },
  {
   "cell_type": "code",
   "execution_count": 5,
   "metadata": {},
   "outputs": [],
   "source": [
    "#Algorithms\n",
    "ML = [\n",
    "    #Ensemble Methods\n",
    "    ensemble.RandomForestClassifier(),\n",
    "    #GLM\n",
    "    linear_model.LogisticRegressionCV(),\n",
    "    #Navies Bayes\n",
    "    naive_bayes.GaussianNB(), \n",
    "    #Nearest Neighbor\n",
    "    neighbors.KNeighborsClassifier(),\n",
    "    #SVM\n",
    "    svm.SVC(probability=True),\n",
    "    #Trees    \n",
    "    tree.DecisionTreeClassifier(),\n",
    "    ]"
   ]
  },
  {
   "cell_type": "code",
   "execution_count": 6,
   "metadata": {},
   "outputs": [
    {
     "data": {
      "text/html": [
       "<div>\n",
       "<style scoped>\n",
       "    .dataframe tbody tr th:only-of-type {\n",
       "        vertical-align: middle;\n",
       "    }\n",
       "\n",
       "    .dataframe tbody tr th {\n",
       "        vertical-align: top;\n",
       "    }\n",
       "\n",
       "    .dataframe thead th {\n",
       "        text-align: right;\n",
       "    }\n",
       "</style>\n",
       "<table border=\"1\" class=\"dataframe\">\n",
       "  <thead>\n",
       "    <tr style=\"text-align: right;\">\n",
       "      <th></th>\n",
       "      <th>Algorithm Name</th>\n",
       "      <th>Train Accuracy</th>\n",
       "      <th>Test Accuracy</th>\n",
       "      <th>Precission</th>\n",
       "      <th>Recall</th>\n",
       "      <th>AUC</th>\n",
       "    </tr>\n",
       "  </thead>\n",
       "  <tbody>\n",
       "    <tr>\n",
       "      <th>1</th>\n",
       "      <td>LogisticRegressionCV</td>\n",
       "      <td>0.9644</td>\n",
       "      <td>0.9793</td>\n",
       "      <td>0.000000</td>\n",
       "      <td>0.000000</td>\n",
       "      <td>0.495599</td>\n",
       "    </tr>\n",
       "    <tr>\n",
       "      <th>3</th>\n",
       "      <td>KNeighborsClassifier</td>\n",
       "      <td>0.9644</td>\n",
       "      <td>0.9793</td>\n",
       "      <td>0.000000</td>\n",
       "      <td>0.000000</td>\n",
       "      <td>0.586854</td>\n",
       "    </tr>\n",
       "    <tr>\n",
       "      <th>4</th>\n",
       "      <td>SVC</td>\n",
       "      <td>0.9747</td>\n",
       "      <td>0.9793</td>\n",
       "      <td>0.000000</td>\n",
       "      <td>0.000000</td>\n",
       "      <td>0.634830</td>\n",
       "    </tr>\n",
       "    <tr>\n",
       "      <th>0</th>\n",
       "      <td>RandomForestClassifier</td>\n",
       "      <td>0.9937</td>\n",
       "      <td>0.9707</td>\n",
       "      <td>0.142857</td>\n",
       "      <td>0.083333</td>\n",
       "      <td>0.865977</td>\n",
       "    </tr>\n",
       "    <tr>\n",
       "      <th>2</th>\n",
       "      <td>GaussianNB</td>\n",
       "      <td>0.9552</td>\n",
       "      <td>0.9638</td>\n",
       "      <td>0.000000</td>\n",
       "      <td>0.000000</td>\n",
       "      <td>0.817928</td>\n",
       "    </tr>\n",
       "    <tr>\n",
       "      <th>5</th>\n",
       "      <td>DecisionTreeClassifier</td>\n",
       "      <td>0.9989</td>\n",
       "      <td>0.9552</td>\n",
       "      <td>0.062500</td>\n",
       "      <td>0.083333</td>\n",
       "      <td>0.527656</td>\n",
       "    </tr>\n",
       "  </tbody>\n",
       "</table>\n",
       "</div>"
      ],
      "text/plain": [
       "           Algorithm Name  Train Accuracy  Test Accuracy  Precission  \\\n",
       "1    LogisticRegressionCV          0.9644         0.9793    0.000000   \n",
       "3    KNeighborsClassifier          0.9644         0.9793    0.000000   \n",
       "4                     SVC          0.9747         0.9793    0.000000   \n",
       "0  RandomForestClassifier          0.9937         0.9707    0.142857   \n",
       "2              GaussianNB          0.9552         0.9638    0.000000   \n",
       "5  DecisionTreeClassifier          0.9989         0.9552    0.062500   \n",
       "\n",
       "     Recall       AUC  \n",
       "1  0.000000  0.495599  \n",
       "3  0.000000  0.586854  \n",
       "4  0.000000  0.634830  \n",
       "0  0.083333  0.865977  \n",
       "2  0.000000  0.817928  \n",
       "5  0.083333  0.527656  "
      ]
     },
     "execution_count": 6,
     "metadata": {},
     "output_type": "execute_result"
    },
    {
     "data": {
      "image/png": "[encoded data removed]",
      "text/plain": [
       "<Figure size 720x576 with 1 Axes>"
      ]
     },
     "metadata": {
      "needs_background": "light"
     },
     "output_type": "display_data"
    }
   ],
   "source": [
    "#Algorithm Evaluation\n",
    "Columns = []\n",
    "Compare = pd.DataFrame(columns = Columns)\n",
    "\n",
    "plt.figure(figsize=(10,8))\n",
    "row_index = 0\n",
    "for alg in ML:\n",
    "    pred = alg.fit(x_train, y_train)\n",
    "    predicted= pred.predict(x_test)\n",
    "    fp, tp, th = roc_curve(y_test, pred.predict_proba(x_test)[:,1])\n",
    "    ML_name = alg.__class__.__name__\n",
    "    Compare.loc[row_index,'Algorithm Name'] = ML_name\n",
    "    Compare.loc[row_index, 'Train Accuracy'] = round(alg.score(x_train, y_train), 4)\n",
    "    Compare.loc[row_index, 'Test Accuracy'] = round(alg.score(x_test, y_test), 4)\n",
    "    Compare.loc[row_index, 'Precission'] = precision_score(y_test, predicted)\n",
    "    Compare.loc[row_index, 'Recall'] = recall_score(y_test, predicted)\n",
    "    Compare.loc[row_index, 'AUC'] = auc(fp, tp)\n",
    "    \n",
    "    plt.plot(fp,tp,alpha=0.7, label='%s ' % (ML_name))\n",
    "    row_index+=1\n",
    "  \n",
    "plt.title('ROC Curve comparison')\n",
    "plt.plot([0, 1], [0, 1], 'k--')\n",
    "plt.xlim([-0.1, 1.1])\n",
    "plt.ylim([-0.1, 1.1])\n",
    "plt.xlabel('False Positive Rate')\n",
    "plt.ylabel('True Positive Rate')\n",
    "plt.legend(loc=0, fontsize='small')\n",
    "\n",
    "\n",
    "Compare.sort_values(by = ['Test Accuracy'], ascending = False, inplace = True)    \n",
    "Compare"
   ]
  },
  {
   "cell_type": "code",
   "execution_count": 7,
   "metadata": {},
   "outputs": [
    {
     "data": {
      "image/png": "[encoded data removed]",
      "text/plain": [
       "<Figure size 720x432 with 1 Axes>"
      ]
     },
     "metadata": {
      "needs_background": "light"
     },
     "output_type": "display_data"
    }
   ],
   "source": [
    "#Bar Plot of Algorithms\n",
    "plt.subplots(figsize=(10,6))\n",
    "sns.barplot(x=\"Algorithm Name\", y=\"Test Accuracy\",data=Compare,palette='summer')\n",
    "plt.xticks(rotation=80)\n",
    "plt.title('Test Accuracy Comparison')\n",
    "plt.show()"
   ]
  },
  {
   "cell_type": "code",
   "execution_count": 16,
   "metadata": {},
   "outputs": [],
   "source": [
    "T_test = []\n",
    "T_test.clear()"
   ]
  },
  {
   "cell_type": "markdown",
   "metadata": {},
   "source": [
    "# Logistic Regression Parameter Tuning"
   ]
  },
  {
   "cell_type": "code",
   "execution_count": 14,
   "metadata": {},
   "outputs": [
    {
     "name": "stdout",
     "output_type": "stream",
     "text": [
      "Parameters:  {'Cs': 10, 'class_weight': None, 'cv': 'warn', 'dual': False, 'fit_intercept': True, 'intercept_scaling': 1.0, 'max_iter': 100, 'multi_class': 'warn', 'n_jobs': None, 'penalty': 'l2', 'random_state': None, 'refit': True, 'scoring': None, 'solver': 'lbfgs', 'tol': 0.0001, 'verbose': 0}\n",
      "Training score: 0.96\n",
      "Test score: 0.98\n"
     ]
    }
   ],
   "source": [
    "#Before Parameter Tuning\n",
    "tunealg = linear_model.LogisticRegressionCV() \n",
    "tunealg.fit(x_train, y_train)\n",
    "\n",
    "print('Parameters: ', tunealg.get_params())\n",
    "print(\"Training score: {:.2f}\". format(tunealg.score(x_train, y_train))) \n",
    "print(\"Test score: {:.2f}\". format(tunealg.score(x_test, y_test)))"
   ]
  },
  {
   "cell_type": "code",
   "execution_count": 22,
   "metadata": {},
   "outputs": [
    {
     "name": "stdout",
     "output_type": "stream",
     "text": [
      "Parameters:  {'penalty': 'l2', 'random_state': 80, 'solver': 'lbfgs'}\n",
      "Training score: 0.56\n",
      "Test score: 0.50\n"
     ]
    }
   ],
   "source": [
    "#After Parameter Tuning\n",
    "param_grid = {  'solver': ['newton-cg', 'lbfgs','liblinear', 'sag'],\n",
    "              'random_state' : [80],'penalty':['l2']\n",
    "             }\n",
    "\n",
    "tune_model = model_selection.GridSearchCV(linear_model.LogisticRegressionCV(), \n",
    "                param_grid=param_grid, cv=12,scoring = 'roc_auc')\n",
    "tune_model.fit (x_train, y_train)\n",
    "\n",
    "print('Parameters: ', tune_model.best_params_)\n",
    "print(\"Training score: {:.2f}\". format(tune_model.score(x_train, y_train))) \n",
    "print(\"Test score: {:.2f}\". format(tune_model.score(x_test, y_test)))\n",
    "\n",
    "T_test.append(tune_model.score(x_test, y_test))"
   ]
  },
  {
   "cell_type": "markdown",
   "metadata": {},
   "source": [
    "# Decision Tree Parameter Tuning"
   ]
  },
  {
   "cell_type": "code",
   "execution_count": 17,
   "metadata": {},
   "outputs": [
    {
     "name": "stdout",
     "output_type": "stream",
     "text": [
      "Parameters:  {'class_weight': None, 'criterion': 'gini', 'max_depth': None, 'max_features': None, 'max_leaf_nodes': None, 'min_impurity_decrease': 0.0, 'min_impurity_split': None, 'min_samples_leaf': 1, 'min_samples_split': 2, 'min_weight_fraction_leaf': 0.0, 'presort': False, 'random_state': None, 'splitter': 'best'}\n",
      "Training score: 1.00\n",
      "Test score: 0.96\n"
     ]
    }
   ],
   "source": [
    "#Before Tuning\n",
    "tunealg = tree.DecisionTreeClassifier() \n",
    "tunealg.fit(x_train, y_train)\n",
    "\n",
    "print('Parameters: ', tunealg.get_params())\n",
    "print(\"Training score: {:.2f}\". format(tunealg.score(x_train, y_train))) \n",
    "print(\"Test score: {:.2f}\". format(tunealg.score(x_test, y_test)))\n"
   ]
  },
  {
   "cell_type": "code",
   "execution_count": 18,
   "metadata": {},
   "outputs": [
    {
     "name": "stdout",
     "output_type": "stream",
     "text": [
      "Parameters:  {'criterion': 'gini', 'max_depth': 3, 'splitter': 'best'}\n",
      " Training score: 0.95\n",
      "Test score: 0.95\n"
     ]
    }
   ],
   "source": [
    "#After Tuning\n",
    "param_grid = {'criterion': ['gini', 'entropy'],\n",
    "              'splitter': ['best', 'random'],\n",
    "              'max_depth': [1, 2, 3, 4, 5, 6, 7, 8, 9, 10, 11, 12, 13, 14],\n",
    "               }\n",
    "\n",
    "tune_model = model_selection.GridSearchCV(tree.DecisionTreeClassifier(), \n",
    "                    param_grid=param_grid, cv=10, scoring = 'roc_auc')\n",
    "tune_model.fit (x_train, y_train)\n",
    "\n",
    "\n",
    "print('Parameters: ', tune_model.best_params_)\n",
    "print(\" Training score: {:.2f}\". format(tune_model.score(x_train, y_train))) \n",
    "print(\"Test score: {:.2f}\". format(tune_model.score(x_test, y_test)))\n",
    "\n",
    "T_test.append(tune_model.score(x_test, y_test))"
   ]
  },
  {
   "cell_type": "code",
   "execution_count": 19,
   "metadata": {},
   "outputs": [
    {
     "data": {
      "text/plain": [
       "<BarContainer object of 2 artists>"
      ]
     },
     "execution_count": 19,
     "metadata": {},
     "output_type": "execute_result"
    },
    {
     "data": {
      "image/png": "[encoded data removed]",
      "text/plain": [
       "<Figure size 432x288 with 1 Axes>"
      ]
     },
     "metadata": {
      "needs_background": "light"
     },
     "output_type": "display_data"
    }
   ],
   "source": [
    "#Bar Plot\n",
    "x=['Logistic Reg','Decision Tree']\n",
    "y = T_test\n",
    "plt.bar(x,y,label='Algos')"
   ]
  },
  {
   "cell_type": "code",
   "execution_count": 20,
   "metadata": {},
   "outputs": [
    {
     "data": {
      "text/html": [
       "<div>\n",
       "<style scoped>\n",
       "    .dataframe tbody tr th:only-of-type {\n",
       "        vertical-align: middle;\n",
       "    }\n",
       "\n",
       "    .dataframe tbody tr th {\n",
       "        vertical-align: top;\n",
       "    }\n",
       "\n",
       "    .dataframe thead th {\n",
       "        text-align: right;\n",
       "    }\n",
       "</style>\n",
       "<table border=\"1\" class=\"dataframe\">\n",
       "  <thead>\n",
       "    <tr style=\"text-align: right;\">\n",
       "      <th></th>\n",
       "      <th>govvote</th>\n",
       "      <th>oppvote</th>\n",
       "      <th>partycount</th>\n",
       "      <th>right</th>\n",
       "      <th>left</th>\n",
       "      <th>extr</th>\n",
       "      <th>gdppeak</th>\n",
       "      <th>frac</th>\n",
       "      <th>cpi</th>\n",
       "      <th>turnover</th>\n",
       "      <th>vetopl</th>\n",
       "      <th>dict</th>\n",
       "      <th>pk_fin</th>\n",
       "    </tr>\n",
       "  </thead>\n",
       "  <tbody>\n",
       "    <tr>\n",
       "      <th>275</th>\n",
       "      <td>60.099998</td>\n",
       "      <td>39.900002</td>\n",
       "      <td>4.0</td>\n",
       "      <td>26.900000</td>\n",
       "      <td>0.000000</td>\n",
       "      <td>26.900000</td>\n",
       "      <td>0</td>\n",
       "      <td>0.706500</td>\n",
       "      <td>82.586655</td>\n",
       "      <td>1.0</td>\n",
       "      <td>3.069999</td>\n",
       "      <td>0</td>\n",
       "      <td>0</td>\n",
       "    </tr>\n",
       "    <tr>\n",
       "      <th>420</th>\n",
       "      <td>58.439999</td>\n",
       "      <td>36.849998</td>\n",
       "      <td>11.0</td>\n",
       "      <td>11.400000</td>\n",
       "      <td>0.000000</td>\n",
       "      <td>11.400000</td>\n",
       "      <td>0</td>\n",
       "      <td>0.889511</td>\n",
       "      <td>17380.000000</td>\n",
       "      <td>0.0</td>\n",
       "      <td>11.050000</td>\n",
       "      <td>0</td>\n",
       "      <td>0</td>\n",
       "    </tr>\n",
       "    <tr>\n",
       "      <th>710</th>\n",
       "      <td>80.800003</td>\n",
       "      <td>16.000000</td>\n",
       "      <td>14.0</td>\n",
       "      <td>26.100000</td>\n",
       "      <td>0.900000</td>\n",
       "      <td>27.000000</td>\n",
       "      <td>0</td>\n",
       "      <td>0.806650</td>\n",
       "      <td>121.222702</td>\n",
       "      <td>1.0</td>\n",
       "      <td>7.300000</td>\n",
       "      <td>0</td>\n",
       "      <td>0</td>\n",
       "    </tr>\n",
       "    <tr>\n",
       "      <th>855</th>\n",
       "      <td>47.599998</td>\n",
       "      <td>46.400002</td>\n",
       "      <td>5.0</td>\n",
       "      <td>4.400000</td>\n",
       "      <td>5.100000</td>\n",
       "      <td>9.500000</td>\n",
       "      <td>0</td>\n",
       "      <td>0.697089</td>\n",
       "      <td>122.545097</td>\n",
       "      <td>0.0</td>\n",
       "      <td>1.260417</td>\n",
       "      <td>0</td>\n",
       "      <td>0</td>\n",
       "    </tr>\n",
       "    <tr>\n",
       "      <th>1000</th>\n",
       "      <td>39.799999</td>\n",
       "      <td>59.799999</td>\n",
       "      <td>11.0</td>\n",
       "      <td>7.400000</td>\n",
       "      <td>10.300000</td>\n",
       "      <td>17.700001</td>\n",
       "      <td>0</td>\n",
       "      <td>0.796729</td>\n",
       "      <td>123.592300</td>\n",
       "      <td>0.0</td>\n",
       "      <td>1.769231</td>\n",
       "      <td>0</td>\n",
       "      <td>0</td>\n",
       "    </tr>\n",
       "    <tr>\n",
       "      <th>1145</th>\n",
       "      <td>44.599998</td>\n",
       "      <td>50.599998</td>\n",
       "      <td>11.0</td>\n",
       "      <td>0.000000</td>\n",
       "      <td>5.500000</td>\n",
       "      <td>5.500000</td>\n",
       "      <td>0</td>\n",
       "      <td>0.596065</td>\n",
       "      <td>146.092102</td>\n",
       "      <td>0.0</td>\n",
       "      <td>0.000000</td>\n",
       "      <td>0</td>\n",
       "      <td>0</td>\n",
       "    </tr>\n",
       "    <tr>\n",
       "      <th>1290</th>\n",
       "      <td>67.199997</td>\n",
       "      <td>29.100000</td>\n",
       "      <td>8.0</td>\n",
       "      <td>1.000000</td>\n",
       "      <td>11.700000</td>\n",
       "      <td>12.700000</td>\n",
       "      <td>0</td>\n",
       "      <td>0.805850</td>\n",
       "      <td>120.245270</td>\n",
       "      <td>1.0</td>\n",
       "      <td>11.121212</td>\n",
       "      <td>0</td>\n",
       "      <td>0</td>\n",
       "    </tr>\n",
       "    <tr>\n",
       "      <th>1435</th>\n",
       "      <td>42.099998</td>\n",
       "      <td>51.099998</td>\n",
       "      <td>8.0</td>\n",
       "      <td>15.000000</td>\n",
       "      <td>12.400000</td>\n",
       "      <td>27.400000</td>\n",
       "      <td>0</td>\n",
       "      <td>0.717486</td>\n",
       "      <td>119.162102</td>\n",
       "      <td>0.0</td>\n",
       "      <td>4.682000</td>\n",
       "      <td>0</td>\n",
       "      <td>0</td>\n",
       "    </tr>\n",
       "    <tr>\n",
       "      <th>1580</th>\n",
       "      <td>43.200001</td>\n",
       "      <td>52.240002</td>\n",
       "      <td>11.0</td>\n",
       "      <td>0.700000</td>\n",
       "      <td>1.400000</td>\n",
       "      <td>2.100000</td>\n",
       "      <td>0</td>\n",
       "      <td>0.527787</td>\n",
       "      <td>93.048370</td>\n",
       "      <td>0.0</td>\n",
       "      <td>0.000000</td>\n",
       "      <td>0</td>\n",
       "      <td>0</td>\n",
       "    </tr>\n",
       "    <tr>\n",
       "      <th>1725</th>\n",
       "      <td>43.799999</td>\n",
       "      <td>56.200001</td>\n",
       "      <td>4.0</td>\n",
       "      <td>0.000000</td>\n",
       "      <td>8.720000</td>\n",
       "      <td>8.720000</td>\n",
       "      <td>0</td>\n",
       "      <td>0.547300</td>\n",
       "      <td>72.201294</td>\n",
       "      <td>0.0</td>\n",
       "      <td>2.994494</td>\n",
       "      <td>0</td>\n",
       "      <td>0</td>\n",
       "    </tr>\n",
       "    <tr>\n",
       "      <th>1870</th>\n",
       "      <td>44.000000</td>\n",
       "      <td>48.099998</td>\n",
       "      <td>9.0</td>\n",
       "      <td>0.000000</td>\n",
       "      <td>5.800000</td>\n",
       "      <td>5.800000</td>\n",
       "      <td>0</td>\n",
       "      <td>0.667200</td>\n",
       "      <td>78.375412</td>\n",
       "      <td>0.0</td>\n",
       "      <td>3.094340</td>\n",
       "      <td>0</td>\n",
       "      <td>0</td>\n",
       "    </tr>\n",
       "    <tr>\n",
       "      <th>2015</th>\n",
       "      <td>42.099998</td>\n",
       "      <td>55.799999</td>\n",
       "      <td>14.0</td>\n",
       "      <td>26.700001</td>\n",
       "      <td>29.700001</td>\n",
       "      <td>56.400002</td>\n",
       "      <td>0</td>\n",
       "      <td>0.835767</td>\n",
       "      <td>143.921799</td>\n",
       "      <td>1.0</td>\n",
       "      <td>4.809646</td>\n",
       "      <td>0</td>\n",
       "      <td>0</td>\n",
       "    </tr>\n",
       "    <tr>\n",
       "      <th>2305</th>\n",
       "      <td>62.700001</td>\n",
       "      <td>34.500000</td>\n",
       "      <td>9.0</td>\n",
       "      <td>0.600000</td>\n",
       "      <td>3.600000</td>\n",
       "      <td>4.200000</td>\n",
       "      <td>0</td>\n",
       "      <td>0.792267</td>\n",
       "      <td>126.985702</td>\n",
       "      <td>0.0</td>\n",
       "      <td>7.761906</td>\n",
       "      <td>0</td>\n",
       "      <td>0</td>\n",
       "    </tr>\n",
       "    <tr>\n",
       "      <th>2450</th>\n",
       "      <td>26.100000</td>\n",
       "      <td>71.000000</td>\n",
       "      <td>8.0</td>\n",
       "      <td>15.400000</td>\n",
       "      <td>6.100000</td>\n",
       "      <td>21.500000</td>\n",
       "      <td>0</td>\n",
       "      <td>0.770689</td>\n",
       "      <td>126.301697</td>\n",
       "      <td>1.0</td>\n",
       "      <td>0.916667</td>\n",
       "      <td>0</td>\n",
       "      <td>0</td>\n",
       "    </tr>\n",
       "    <tr>\n",
       "      <th>2595</th>\n",
       "      <td>44.060001</td>\n",
       "      <td>43.099998</td>\n",
       "      <td>5.0</td>\n",
       "      <td>8.300000</td>\n",
       "      <td>12.200000</td>\n",
       "      <td>20.500000</td>\n",
       "      <td>0</td>\n",
       "      <td>0.617316</td>\n",
       "      <td>270594.936800</td>\n",
       "      <td>0.0</td>\n",
       "      <td>0.000000</td>\n",
       "      <td>0</td>\n",
       "      <td>0</td>\n",
       "    </tr>\n",
       "    <tr>\n",
       "      <th>2740</th>\n",
       "      <td>36.380001</td>\n",
       "      <td>60.970001</td>\n",
       "      <td>7.0</td>\n",
       "      <td>0.400000</td>\n",
       "      <td>12.000000</td>\n",
       "      <td>12.400000</td>\n",
       "      <td>0</td>\n",
       "      <td>0.767104</td>\n",
       "      <td>129.725998</td>\n",
       "      <td>0.0</td>\n",
       "      <td>0.000000</td>\n",
       "      <td>0</td>\n",
       "      <td>0</td>\n",
       "    </tr>\n",
       "  </tbody>\n",
       "</table>\n",
       "</div>"
      ],
      "text/plain": [
       "        govvote    oppvote  partycount      right       left       extr  \\\n",
       "275   60.099998  39.900002         4.0  26.900000   0.000000  26.900000   \n",
       "420   58.439999  36.849998        11.0  11.400000   0.000000  11.400000   \n",
       "710   80.800003  16.000000        14.0  26.100000   0.900000  27.000000   \n",
       "855   47.599998  46.400002         5.0   4.400000   5.100000   9.500000   \n",
       "1000  39.799999  59.799999        11.0   7.400000  10.300000  17.700001   \n",
       "1145  44.599998  50.599998        11.0   0.000000   5.500000   5.500000   \n",
       "1290  67.199997  29.100000         8.0   1.000000  11.700000  12.700000   \n",
       "1435  42.099998  51.099998         8.0  15.000000  12.400000  27.400000   \n",
       "1580  43.200001  52.240002        11.0   0.700000   1.400000   2.100000   \n",
       "1725  43.799999  56.200001         4.0   0.000000   8.720000   8.720000   \n",
       "1870  44.000000  48.099998         9.0   0.000000   5.800000   5.800000   \n",
       "2015  42.099998  55.799999        14.0  26.700001  29.700001  56.400002   \n",
       "2305  62.700001  34.500000         9.0   0.600000   3.600000   4.200000   \n",
       "2450  26.100000  71.000000         8.0  15.400000   6.100000  21.500000   \n",
       "2595  44.060001  43.099998         5.0   8.300000  12.200000  20.500000   \n",
       "2740  36.380001  60.970001         7.0   0.400000  12.000000  12.400000   \n",
       "\n",
       "      gdppeak      frac            cpi  turnover     vetopl  dict  pk_fin  \n",
       "275         0  0.706500      82.586655       1.0   3.069999     0       0  \n",
       "420         0  0.889511   17380.000000       0.0  11.050000     0       0  \n",
       "710         0  0.806650     121.222702       1.0   7.300000     0       0  \n",
       "855         0  0.697089     122.545097       0.0   1.260417     0       0  \n",
       "1000        0  0.796729     123.592300       0.0   1.769231     0       0  \n",
       "1145        0  0.596065     146.092102       0.0   0.000000     0       0  \n",
       "1290        0  0.805850     120.245270       1.0  11.121212     0       0  \n",
       "1435        0  0.717486     119.162102       0.0   4.682000     0       0  \n",
       "1580        0  0.527787      93.048370       0.0   0.000000     0       0  \n",
       "1725        0  0.547300      72.201294       0.0   2.994494     0       0  \n",
       "1870        0  0.667200      78.375412       0.0   3.094340     0       0  \n",
       "2015        0  0.835767     143.921799       1.0   4.809646     0       0  \n",
       "2305        0  0.792267     126.985702       0.0   7.761906     0       0  \n",
       "2450        0  0.770689     126.301697       1.0   0.916667     0       0  \n",
       "2595        0  0.617316  270594.936800       0.0   0.000000     0       0  \n",
       "2740        0  0.767104     129.725998       0.0   0.000000     0       0  "
      ]
     },
     "execution_count": 20,
     "metadata": {},
     "output_type": "execute_result"
    }
   ],
   "source": [
    "#Prediction\n",
    "check = new_data[(new_data['year'] == 2000)]\n",
    "check[[ 'govvote', 'oppvote', 'partycount', 'right', 'left', 'extr',\n",
    "              'gdppeak', 'frac', 'cpi', 'turnover', 'vetopl', 'dict','pk_fin']]"
   ]
  },
  {
   "cell_type": "code",
   "execution_count": 21,
   "metadata": {},
   "outputs": [
    {
     "data": {
      "text/plain": [
       "array([0], dtype=int64)"
      ]
     },
     "execution_count": 21,
     "metadata": {},
     "output_type": "execute_result"
    }
   ],
   "source": [
    "#Output\n",
    "tune_model.predict([[36.3,60.9,7,0.4,12,12.4,0,0.7,129.7,0,0,0]])"
   ]
  },
  {
   "cell_type": "code",
   "execution_count": null,
   "metadata": {},
   "outputs": [],
   "source": []
  },
  {
   "cell_type": "code",
   "execution_count": 8,
   "metadata": {},
   "outputs": [],
   "source": [
    "List_S = ['a','b','c']\n",
    "pare = pd.DataFrame(columns = List_S)"
   ]
  },
  {
   "cell_type": "code",
   "execution_count": 9,
   "metadata": {},
   "outputs": [
    {
     "ename": "ValueError",
     "evalue": "Could not interpret input 'Algorithm Name'",
     "output_type": "error",
     "traceback": [
      "\u001b[1;31m---------------------------------------------------------------------------\u001b[0m",
      "\u001b[1;31mValueError\u001b[0m                                Traceback (most recent call last)",
      "\u001b[1;32m<ipython-input-9-94e34a9b6b7a>\u001b[0m in \u001b[0;36m<module>\u001b[1;34m\u001b[0m\n\u001b[0;32m      1\u001b[0m \u001b[1;31m#Bar Plot of Algorithms\u001b[0m\u001b[1;33m\u001b[0m\u001b[1;33m\u001b[0m\u001b[1;33m\u001b[0m\u001b[0m\n\u001b[0;32m      2\u001b[0m \u001b[0mplt\u001b[0m\u001b[1;33m.\u001b[0m\u001b[0msubplots\u001b[0m\u001b[1;33m(\u001b[0m\u001b[0mfigsize\u001b[0m\u001b[1;33m=\u001b[0m\u001b[1;33m(\u001b[0m\u001b[1;36m10\u001b[0m\u001b[1;33m,\u001b[0m\u001b[1;36m6\u001b[0m\u001b[1;33m)\u001b[0m\u001b[1;33m)\u001b[0m\u001b[1;33m\u001b[0m\u001b[1;33m\u001b[0m\u001b[0m\n\u001b[1;32m----> 3\u001b[1;33m \u001b[0msns\u001b[0m\u001b[1;33m.\u001b[0m\u001b[0mbarplot\u001b[0m\u001b[1;33m(\u001b[0m\u001b[0mx\u001b[0m\u001b[1;33m=\u001b[0m\u001b[1;34m\"Algorithm Name\"\u001b[0m\u001b[1;33m,\u001b[0m \u001b[0my\u001b[0m\u001b[1;33m=\u001b[0m\u001b[1;34m\"Test Accuracy\"\u001b[0m\u001b[1;33m,\u001b[0m\u001b[0mdata\u001b[0m\u001b[1;33m=\u001b[0m\u001b[0mpare\u001b[0m\u001b[1;33m,\u001b[0m\u001b[0mpalette\u001b[0m\u001b[1;33m=\u001b[0m\u001b[1;34m'summer'\u001b[0m\u001b[1;33m)\u001b[0m\u001b[1;33m\u001b[0m\u001b[1;33m\u001b[0m\u001b[0m\n\u001b[0m\u001b[0;32m      4\u001b[0m \u001b[0mplt\u001b[0m\u001b[1;33m.\u001b[0m\u001b[0mxticks\u001b[0m\u001b[1;33m(\u001b[0m\u001b[0mrotation\u001b[0m\u001b[1;33m=\u001b[0m\u001b[1;36m80\u001b[0m\u001b[1;33m)\u001b[0m\u001b[1;33m\u001b[0m\u001b[1;33m\u001b[0m\u001b[0m\n\u001b[0;32m      5\u001b[0m \u001b[0mplt\u001b[0m\u001b[1;33m.\u001b[0m\u001b[0mtitle\u001b[0m\u001b[1;33m(\u001b[0m\u001b[1;34m'Test Accuracy Comparison'\u001b[0m\u001b[1;33m)\u001b[0m\u001b[1;33m\u001b[0m\u001b[1;33m\u001b[0m\u001b[0m\n",
      "\u001b[1;32m~\\Anaconda3\\lib\\site-packages\\seaborn\\categorical.py\u001b[0m in \u001b[0;36mbarplot\u001b[1;34m(x, y, hue, data, order, hue_order, estimator, ci, n_boot, units, orient, color, palette, saturation, errcolor, errwidth, capsize, dodge, ax, **kwargs)\u001b[0m\n\u001b[0;32m   3147\u001b[0m                           \u001b[0mestimator\u001b[0m\u001b[1;33m,\u001b[0m \u001b[0mci\u001b[0m\u001b[1;33m,\u001b[0m \u001b[0mn_boot\u001b[0m\u001b[1;33m,\u001b[0m \u001b[0munits\u001b[0m\u001b[1;33m,\u001b[0m\u001b[1;33m\u001b[0m\u001b[1;33m\u001b[0m\u001b[0m\n\u001b[0;32m   3148\u001b[0m                           \u001b[0morient\u001b[0m\u001b[1;33m,\u001b[0m \u001b[0mcolor\u001b[0m\u001b[1;33m,\u001b[0m \u001b[0mpalette\u001b[0m\u001b[1;33m,\u001b[0m \u001b[0msaturation\u001b[0m\u001b[1;33m,\u001b[0m\u001b[1;33m\u001b[0m\u001b[1;33m\u001b[0m\u001b[0m\n\u001b[1;32m-> 3149\u001b[1;33m                           errcolor, errwidth, capsize, dodge)\n\u001b[0m\u001b[0;32m   3150\u001b[0m \u001b[1;33m\u001b[0m\u001b[0m\n\u001b[0;32m   3151\u001b[0m     \u001b[1;32mif\u001b[0m \u001b[0max\u001b[0m \u001b[1;32mis\u001b[0m \u001b[1;32mNone\u001b[0m\u001b[1;33m:\u001b[0m\u001b[1;33m\u001b[0m\u001b[1;33m\u001b[0m\u001b[0m\n",
      "\u001b[1;32m~\\Anaconda3\\lib\\site-packages\\seaborn\\categorical.py\u001b[0m in \u001b[0;36m__init__\u001b[1;34m(self, x, y, hue, data, order, hue_order, estimator, ci, n_boot, units, orient, color, palette, saturation, errcolor, errwidth, capsize, dodge)\u001b[0m\n\u001b[0;32m   1605\u001b[0m         \u001b[1;34m\"\"\"Initialize the plotter.\"\"\"\u001b[0m\u001b[1;33m\u001b[0m\u001b[1;33m\u001b[0m\u001b[0m\n\u001b[0;32m   1606\u001b[0m         self.establish_variables(x, y, hue, data, orient,\n\u001b[1;32m-> 1607\u001b[1;33m                                  order, hue_order, units)\n\u001b[0m\u001b[0;32m   1608\u001b[0m         \u001b[0mself\u001b[0m\u001b[1;33m.\u001b[0m\u001b[0mestablish_colors\u001b[0m\u001b[1;33m(\u001b[0m\u001b[0mcolor\u001b[0m\u001b[1;33m,\u001b[0m \u001b[0mpalette\u001b[0m\u001b[1;33m,\u001b[0m \u001b[0msaturation\u001b[0m\u001b[1;33m)\u001b[0m\u001b[1;33m\u001b[0m\u001b[1;33m\u001b[0m\u001b[0m\n\u001b[0;32m   1609\u001b[0m         \u001b[0mself\u001b[0m\u001b[1;33m.\u001b[0m\u001b[0mestimate_statistic\u001b[0m\u001b[1;33m(\u001b[0m\u001b[0mestimator\u001b[0m\u001b[1;33m,\u001b[0m \u001b[0mci\u001b[0m\u001b[1;33m,\u001b[0m \u001b[0mn_boot\u001b[0m\u001b[1;33m)\u001b[0m\u001b[1;33m\u001b[0m\u001b[1;33m\u001b[0m\u001b[0m\n",
      "\u001b[1;32m~\\Anaconda3\\lib\\site-packages\\seaborn\\categorical.py\u001b[0m in \u001b[0;36mestablish_variables\u001b[1;34m(self, x, y, hue, data, orient, order, hue_order, units)\u001b[0m\n\u001b[0;32m    153\u001b[0m                 \u001b[1;32mif\u001b[0m \u001b[0misinstance\u001b[0m\u001b[1;33m(\u001b[0m\u001b[0minput\u001b[0m\u001b[1;33m,\u001b[0m \u001b[0mstring_types\u001b[0m\u001b[1;33m)\u001b[0m\u001b[1;33m:\u001b[0m\u001b[1;33m\u001b[0m\u001b[1;33m\u001b[0m\u001b[0m\n\u001b[0;32m    154\u001b[0m                     \u001b[0merr\u001b[0m \u001b[1;33m=\u001b[0m \u001b[1;34m\"Could not interpret input '{}'\"\u001b[0m\u001b[1;33m.\u001b[0m\u001b[0mformat\u001b[0m\u001b[1;33m(\u001b[0m\u001b[0minput\u001b[0m\u001b[1;33m)\u001b[0m\u001b[1;33m\u001b[0m\u001b[1;33m\u001b[0m\u001b[0m\n\u001b[1;32m--> 155\u001b[1;33m                     \u001b[1;32mraise\u001b[0m \u001b[0mValueError\u001b[0m\u001b[1;33m(\u001b[0m\u001b[0merr\u001b[0m\u001b[1;33m)\u001b[0m\u001b[1;33m\u001b[0m\u001b[1;33m\u001b[0m\u001b[0m\n\u001b[0m\u001b[0;32m    156\u001b[0m \u001b[1;33m\u001b[0m\u001b[0m\n\u001b[0;32m    157\u001b[0m             \u001b[1;31m# Figure out the plotting orientation\u001b[0m\u001b[1;33m\u001b[0m\u001b[1;33m\u001b[0m\u001b[1;33m\u001b[0m\u001b[0m\n",
      "\u001b[1;31mValueError\u001b[0m: Could not interpret input 'Algorithm Name'"
     ]
    },
    {
     "data": {
      "image/png": "[encoded data removed]",
      "text/plain": [
       "<Figure size 720x432 with 1 Axes>"
      ]
     },
     "metadata": {
      "needs_background": "light"
     },
     "output_type": "display_data"
    }
   ],
   "source": [
    "#Bar Plot of Algorithms\n",
    "plt.subplots(figsize=(10,6))\n",
    "sns.barplot(x=\"Algorithm Name\", y=\"Test Accuracy\",data=pare,palette='summer')\n",
    "plt.xticks(rotation=80)\n",
    "plt.title('Test Accuracy Comparison')\n",
    "plt.show()"
   ]
  },
  {
   "cell_type": "code",
   "execution_count": null,
   "metadata": {},
   "outputs": [],
   "source": []
  },
  {
   "cell_type": "code",
   "execution_count": null,
   "metadata": {},
   "outputs": [],
   "source": []
  },
  {
   "cell_type": "code",
   "execution_count": null,
   "metadata": {},
   "outputs": [],
   "source": []
  },
  {
   "cell_type": "code",
   "execution_count": null,
   "metadata": {},
   "outputs": [],
   "source": []
  }
 ],
 "metadata": {
  "kernelspec": {
   "display_name": "Python 3",
   "language": "python",
   "name": "python3"
  },
  "language_info": {
   "codemirror_mode": {
    "name": "ipython",
    "version": 3
   },
   "file_extension": ".py",
   "mimetype": "text/x-python",
   "name": "python",
   "nbconvert_exporter": "python",
   "pygments_lexer": "ipython3",
   "version": "3.7.3"
  }
 },
 "nbformat": 4,
 "nbformat_minor": 2
}
