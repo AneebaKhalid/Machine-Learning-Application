{
 "cells": [
  {
   "cell_type": "markdown",
   "metadata": {},
   "source": [
    "# Question 6"
   ]
  },
  {
   "cell_type": "code",
   "execution_count": 1,
   "metadata": {},
   "outputs": [],
   "source": [
    "#Imports\n",
    "import pandas as pd\n",
    "import numpy as np\n",
    "import seaborn as sns\n",
    "from matplotlib import pyplot as plt\n",
    "import warnings\n",
    "warnings.filterwarnings('ignore')\n",
    "\n",
    "from sklearn.model_selection import train_test_split, cross_val_score\n",
    "from sklearn.metrics import mean_squared_error,confusion_matrix, precision_score, recall_score, auc,roc_curve,roc_auc_score,accuracy_score\n",
    "from sklearn import preprocessing\n",
    "from sklearn import ensemble, neighbors, svm, tree, neural_network\n",
    "from sklearn import svm,model_selection, tree, linear_model, neighbors, naive_bayes, ensemble, discriminant_analysis, gaussian_process"
   ]
  },
  {
   "cell_type": "markdown",
   "metadata": {},
   "source": [
    "# Data Upload and Query"
   ]
  },
  {
   "cell_type": "code",
   "execution_count": 4,
   "metadata": {},
   "outputs": [],
   "source": [
    "#Data Splitting and Missing Values"
   ]
  },
  {
   "cell_type": "markdown",
   "metadata": {},
   "source": []
  },
  {
   "cell_type": "code",
   "execution_count": 5,
   "metadata": {
    "scrolled": true
   },
   "outputs": [
    {
     "data": {
      "text/plain": [
       "Index(['ccode', 'iso', 'year', 'govvote', 'oppvote', 'frac', 'partycount',\n",
       "       'right', 'left', 'extr', 'protests', 'protestsdev', 'demosdev',\n",
       "       'riotsdev', 'strikesdev', 'rgdp', 'gdppeak', 'crisisJST', 'pk_fin',\n",
       "       'pk_norm', 'pk_dis', 'cpi', 'govcris', 'turnover', 'vetopl', 'dict',\n",
       "       'election', 'election_year'],\n",
       "      dtype='object')"
      ]
     },
     "execution_count": 5,
     "metadata": {},
     "output_type": "execute_result"
    }
   ],
   "source": [
    "df = pd.read_csv('dataset.csv')\n",
    "df_fill = df.fillna(df.median())\n",
    "df_fill.columns"
   ]
  },
  {
   "cell_type": "markdown",
   "metadata": {},
   "source": [
    "# Features and Target Values"
   ]
  },
  {
   "cell_type": "code",
   "execution_count": 6,
   "metadata": {},
   "outputs": [],
   "source": [
    "X = df_fill[[ 'govvote', 'oppvote', 'frac', 'partycount',\n",
    "       'right', 'left', 'extr','govcris', 'turnover', 'vetopl', 'dict']]\n",
    "y = df_fill.crisisJST"
   ]
  },
  {
   "cell_type": "markdown",
   "metadata": {},
   "source": [
    "# Training Data"
   ]
  },
  {
   "cell_type": "code",
   "execution_count": 7,
   "metadata": {},
   "outputs": [],
   "source": [
    "x_train, x_test, y_train, y_test = train_test_split(X,y,test_size=0.3)"
   ]
  },
  {
   "cell_type": "code",
   "execution_count": 8,
   "metadata": {},
   "outputs": [],
   "source": [
    "from sklearn.neural_network import MLPClassifier, MLPRegressor\n",
    "from sklearn.linear_model import Perceptron"
   ]
  },
  {
   "cell_type": "code",
   "execution_count": 9,
   "metadata": {},
   "outputs": [],
   "source": [
    "ML = [\n",
    "    #Ensemble Methods\n",
    "    ensemble.RandomForestClassifier(),\n",
    "    #GLM\n",
    "    linear_model.LogisticRegressionCV(),\n",
    "    #Navies Bayes\n",
    "    naive_bayes.GaussianNB(),\n",
    "    #Nearest Neighbor\n",
    "    neighbors.KNeighborsClassifier(),\n",
    "    #SVM\n",
    "    svm.SVC(probability=True),\n",
    "    #Trees    \n",
    "    tree.DecisionTreeClassifier(),\n",
    "    #Neural_network\n",
    "    neural_network.MLPClassifier(),\n",
    "    ]"
   ]
  },
  {
   "cell_type": "code",
   "execution_count": 10,
   "metadata": {},
   "outputs": [
    {
     "data": {
      "text/html": [
       "<div>\n",
       "<style scoped>\n",
       "    .dataframe tbody tr th:only-of-type {\n",
       "        vertical-align: middle;\n",
       "    }\n",
       "\n",
       "    .dataframe tbody tr th {\n",
       "        vertical-align: top;\n",
       "    }\n",
       "\n",
       "    .dataframe thead th {\n",
       "        text-align: right;\n",
       "    }\n",
       "</style>\n",
       "<table border=\"1\" class=\"dataframe\">\n",
       "  <thead>\n",
       "    <tr style=\"text-align: right;\">\n",
       "      <th></th>\n",
       "      <th>Algo Name</th>\n",
       "      <th>Train Accuracy</th>\n",
       "      <th>Test Accuracy</th>\n",
       "      <th>Precission</th>\n",
       "      <th>Recall</th>\n",
       "      <th>AUC</th>\n",
       "    </tr>\n",
       "  </thead>\n",
       "  <tbody>\n",
       "    <tr>\n",
       "      <th>1</th>\n",
       "      <td>LogisticRegressionCV</td>\n",
       "      <td>0.9709</td>\n",
       "      <td>0.9483</td>\n",
       "      <td>0.000000</td>\n",
       "      <td>0.000000</td>\n",
       "      <td>0.478707</td>\n",
       "    </tr>\n",
       "    <tr>\n",
       "      <th>3</th>\n",
       "      <td>KNeighborsClassifier</td>\n",
       "      <td>0.9709</td>\n",
       "      <td>0.9483</td>\n",
       "      <td>0.000000</td>\n",
       "      <td>0.000000</td>\n",
       "      <td>0.494141</td>\n",
       "    </tr>\n",
       "    <tr>\n",
       "      <th>4</th>\n",
       "      <td>SVC</td>\n",
       "      <td>0.9719</td>\n",
       "      <td>0.9483</td>\n",
       "      <td>0.000000</td>\n",
       "      <td>0.000000</td>\n",
       "      <td>0.453657</td>\n",
       "    </tr>\n",
       "    <tr>\n",
       "      <th>6</th>\n",
       "      <td>MLPClassifier</td>\n",
       "      <td>0.9709</td>\n",
       "      <td>0.9483</td>\n",
       "      <td>0.000000</td>\n",
       "      <td>0.000000</td>\n",
       "      <td>0.517441</td>\n",
       "    </tr>\n",
       "    <tr>\n",
       "      <th>0</th>\n",
       "      <td>RandomForestClassifier</td>\n",
       "      <td>0.9833</td>\n",
       "      <td>0.9333</td>\n",
       "      <td>0.000000</td>\n",
       "      <td>0.000000</td>\n",
       "      <td>0.495636</td>\n",
       "    </tr>\n",
       "    <tr>\n",
       "      <th>5</th>\n",
       "      <td>DecisionTreeClassifier</td>\n",
       "      <td>0.9867</td>\n",
       "      <td>0.9241</td>\n",
       "      <td>0.043478</td>\n",
       "      <td>0.022222</td>\n",
       "      <td>0.465455</td>\n",
       "    </tr>\n",
       "    <tr>\n",
       "      <th>2</th>\n",
       "      <td>GaussianNB</td>\n",
       "      <td>0.9493</td>\n",
       "      <td>0.9218</td>\n",
       "      <td>0.074074</td>\n",
       "      <td>0.044444</td>\n",
       "      <td>0.586882</td>\n",
       "    </tr>\n",
       "  </tbody>\n",
       "</table>\n",
       "</div>"
      ],
      "text/plain": [
       "                Algo Name  Train Accuracy  Test Accuracy  Precission  \\\n",
       "1    LogisticRegressionCV          0.9709         0.9483    0.000000   \n",
       "3    KNeighborsClassifier          0.9709         0.9483    0.000000   \n",
       "4                     SVC          0.9719         0.9483    0.000000   \n",
       "6           MLPClassifier          0.9709         0.9483    0.000000   \n",
       "0  RandomForestClassifier          0.9833         0.9333    0.000000   \n",
       "5  DecisionTreeClassifier          0.9867         0.9241    0.043478   \n",
       "2              GaussianNB          0.9493         0.9218    0.074074   \n",
       "\n",
       "     Recall       AUC  \n",
       "1  0.000000  0.478707  \n",
       "3  0.000000  0.494141  \n",
       "4  0.000000  0.453657  \n",
       "6  0.000000  0.517441  \n",
       "0  0.000000  0.495636  \n",
       "5  0.022222  0.465455  \n",
       "2  0.044444  0.586882  "
      ]
     },
     "execution_count": 10,
     "metadata": {},
     "output_type": "execute_result"
    },
    {
     "data": {
      "image/png": "[encoded data removed]",
      "text/plain": [
       "<Figure size 576x432 with 1 Axes>"
      ]
     },
     "metadata": {
      "needs_background": "light"
     },
     "output_type": "display_data"
    }
   ],
   "source": [
    "Columns = []\n",
    "Compare = pd.DataFrame(columns = Columns)\n",
    "\n",
    "plt.figure(figsize=(8,6))\n",
    "row_index = 0\n",
    "for alg in ML:\n",
    "    pred = alg.fit(x_train, y_train)\n",
    "    predicted= pred.predict(x_test)\n",
    "    fp, tp, th = roc_curve(y_test, pred.predict_proba(x_test)[:,1])\n",
    "    ML_name = alg.__class__.__name__\n",
    "    Compare.loc[row_index,'Algo Name'] = ML_name\n",
    "    Compare.loc[row_index, 'Train Accuracy'] = round(alg.score(x_train, y_train), 4)\n",
    "    Compare.loc[row_index, 'Test Accuracy'] = round(alg.score(x_test, y_test), 4)\n",
    "    Compare.loc[row_index, 'Precission'] = precision_score(y_test, predicted)\n",
    "    Compare.loc[row_index, 'Recall'] = recall_score(y_test, predicted)\n",
    "    Compare.loc[row_index, 'AUC'] = auc(fp, tp)\n",
    "    \n",
    "    plt.plot(fp,tp,alpha=0.7, label='%s ' % (ML_name))\n",
    "    row_index+=1\n",
    "  \n",
    "plt.title('ROC Curve comparison')\n",
    "plt.plot([0, 1], [0, 1], 'k--')\n",
    "plt.xlim([-0.1, 1.1])\n",
    "plt.ylim([-0.1, 1.1])\n",
    "plt.xlabel('False Positive Rate')\n",
    "plt.ylabel('True Positive Rate')\n",
    "plt.legend(loc=0, fontsize='small')\n",
    "\n",
    "\n",
    "Compare.sort_values(by = ['Test Accuracy'], ascending = False, inplace = True)    \n",
    "Compare"
   ]
  },
  {
   "cell_type": "code",
   "execution_count": 12,
   "metadata": {},
   "outputs": [
    {
     "data": {
      "image/png": "[encoded data removed]",
      "text/plain": [
       "<Figure size 720x432 with 1 Axes>"
      ]
     },
     "metadata": {
      "needs_background": "light"
     },
     "output_type": "display_data"
    }
   ],
   "source": [
    "plt.subplots(figsize=(10,6))\n",
    "sns.barplot(x=\"Algo Name\", y=\"Test Accuracy\",data=Compare,palette='twilight')\n",
    "plt.xticks(rotation=90)\n",
    "plt.title('Test Accuracy Comparison')\n",
    "plt.show()"
   ]
  },
  {
   "cell_type": "code",
   "execution_count": 13,
   "metadata": {},
   "outputs": [
    {
     "name": "stdout",
     "output_type": "stream",
     "text": [
      "Parameters:  {'Cs': 10, 'class_weight': None, 'cv': 'warn', 'dual': False, 'fit_intercept': True, 'intercept_scaling': 1.0, 'max_iter': 100, 'multi_class': 'warn', 'n_jobs': None, 'penalty': 'l2', 'random_state': None, 'refit': True, 'scoring': None, 'solver': 'lbfgs', 'tol': 0.0001, 'verbose': 0}\n",
      "Training score: 0.97\n",
      "Test score: 0.95\n"
     ]
    }
   ],
   "source": [
    "#Logistic Regression Before Parameter\n",
    "T_test = []\n",
    "T_test.clear()\n",
    "tunealg = linear_model.LogisticRegressionCV() \n",
    "tunealg.fit(x_train, y_train)\n",
    "print('Logistic Regression Before Parameter')\n",
    "print('Parameters: ', tunealg.get_params())\n",
    "print(\"Training score: {:.2f}\". format(tunealg.score(x_train, y_train))) \n",
    "print(\"Test score: {:.2f}\". format(tunealg.score(x_test, y_test)))\n"
   ]
  },
  {
   "cell_type": "code",
   "execution_count": 14,
   "metadata": {},
   "outputs": [
    {
     "name": "stdout",
     "output_type": "stream",
     "text": [
      "Parameters:  {'penalty': 'l2', 'random_state': 80, 'solver': 'newton-cg'}\n",
      "Training set score: 0.97\n",
      "Test score: 0.95\n"
     ]
    }
   ],
   "source": [
    "#Logistic Regression After Parameter Tuning\n",
    "\n",
    "param_grid = { \n",
    "              'solver': ['newton-cg', 'lbfgs','liblinear', 'sag'],\n",
    "              'random_state' : [80],\n",
    "              'penalty':['l2']\n",
    "             }\n",
    "\n",
    "tune_model = model_selection.GridSearchCV(linear_model.LogisticRegressionCV(), \n",
    "                param_grid=param_grid, cv=12,scoring = 'accuracy')\n",
    "tune_model.fit (x_train, y_train)\n",
    "print('\\nLogistic Regression After Parameter Tuning')\n",
    "print('Parameters: ', tune_model.best_params_)\n",
    "print(\"Training set score: {:.2f}\". format(tune_model.score(x_train, y_train))) \n",
    "print(\"Test score: {:.2f}\". format(tune_model.score(x_test, y_test)))\n",
    "\n",
    "T_test.append(tune_model.score(x_test, y_test))"
   ]
  },
  {
   "cell_type": "code",
   "execution_count": 15,
   "metadata": {},
   "outputs": [
    {
     "name": "stdout",
     "output_type": "stream",
     "text": [
      "Parameters:  {'class_weight': None, 'criterion': 'gini', 'max_depth': None, 'max_features': None, 'max_leaf_nodes': None, 'min_impurity_decrease': 0.0, 'min_impurity_split': None, 'min_samples_leaf': 1, 'min_samples_split': 2, 'min_weight_fraction_leaf': 0.0, 'presort': False, 'random_state': None, 'splitter': 'best'}\n",
      "Training score: 0.99\n",
      "Test score: 0.93\n"
     ]
    }
   ],
   "source": [
    "#Decision Tree Before Parameter Tuning\n",
    "tunealg = tree.DecisionTreeClassifier() \n",
    "tunealg.fit(x_train, y_train)\n",
    "print('\\nDecision Tree Before Parameter Tuning')\n",
    "print('Parameters: ', tunealg.get_params())\n",
    "print(\"Training score: {:.2f}\". format(tunealg.score(x_train, y_train))) \n",
    "print(\"Test score: {:.2f}\". format(tunealg.score(x_test, y_test)))\n"
   ]
  },
  {
   "cell_type": "code",
   "execution_count": 16,
   "metadata": {},
   "outputs": [
    {
     "name": "stdout",
     "output_type": "stream",
     "text": [
      "AFTER tuning Parameters:  {'criterion': 'gini', 'max_depth': 2, 'splitter': 'random'}\n",
      "AFTER tuning Training set score: 0.97\n",
      "AFTER tuning Test set score: 0.95\n"
     ]
    }
   ],
   "source": [
    "#Decision Tree After Parameter Tuning\n",
    "param_grid = {'criterion': ['gini', 'entropy'],\n",
    "              'splitter': ['best', 'random'],\n",
    "              'max_depth': [1, 2, 3, 4, 5, 6, 7, 8, 9, 10, 11, 12, 13, 14],\n",
    "              \n",
    "             }\n",
    "\n",
    "tune_model = model_selection.GridSearchCV(tree.DecisionTreeClassifier(), \n",
    "                    param_grid=param_grid, cv=10, scoring = 'accuracy')\n",
    "tune_model.fit (x_train, y_train)\n",
    "\n",
    "print('\\nDecision Tree After Parameter Tuning')\n",
    "print('Best Parameters: ', tune_model.best_params_)\n",
    "print(\"Training score: {:.2f}\". format(tune_model.score(x_train, y_train))) \n",
    "print(\"Test score: {:.2f}\". format(tune_model.score(x_test, y_test)))\n",
    "\n",
    "T_test.append(tune_model.score(x_test, y_test))"
   ]
  },
  {
   "cell_type": "code",
   "execution_count": 17,
   "metadata": {},
   "outputs": [
    {
     "name": "stdout",
     "output_type": "stream",
     "text": [
      "Parameters:  {'activation': 'relu', 'alpha': 0.0001, 'batch_size': 'auto', 'beta_1': 0.9, 'beta_2': 0.999, 'early_stopping': False, 'epsilon': 1e-08, 'hidden_layer_sizes': (100,), 'learning_rate': 'constant', 'learning_rate_init': 0.001, 'max_iter': 200, 'momentum': 0.9, 'n_iter_no_change': 10, 'nesterovs_momentum': True, 'power_t': 0.5, 'random_state': None, 'shuffle': True, 'solver': 'adam', 'tol': 0.0001, 'validation_fraction': 0.1, 'verbose': False, 'warm_start': False}\n",
      "Training score: 0.97\n",
      "Test score: 0.95\n"
     ]
    }
   ],
   "source": [
    "#Neural Network \n",
    "t_alg = neural_network.MLPClassifier()\n",
    "t_alg.fit(x_train, y_train)\n",
    "print('\\nNeural Network ')\n",
    "print('Parameters: ', t_alg.get_params())\n",
    "print(\"Training score: {:.2f}\". format(t_alg.score(x_train, y_train))) \n",
    "print(\"Test score: {:.2f}\". format(t_alg.score(x_test, y_test)))\n"
   ]
  },
  {
   "cell_type": "code",
   "execution_count": 18,
   "metadata": {},
   "outputs": [
    {
     "name": "stdout",
     "output_type": "stream",
     "text": [
      "Best Parameters:  {'activation': 'identity', 'hidden_layer_sizes': 5, 'random_state': 1, 'solver': 'lbfgs'}\n",
      "Training score: 0.97\n",
      "Test score: 0.95\n"
     ]
    }
   ],
   "source": [
    "#Neural Network After Parameter Tuneing\n",
    "param_grid = { 'activation': ['identity', 'logistic', 'tanh', 'relu'],\n",
    "              'solver': ['lbfgs', 'sgd', 'adam'], \n",
    "              'hidden_layer_sizes':[5,4,3,2], \n",
    "              'random_state':[1,2,3]\n",
    "             }\n",
    "\n",
    "tmodel = model_selection.GridSearchCV(neural_network.MLPClassifier(), \n",
    "                    param_grid=param_grid, cv=10, scoring = 'accuracy')\n",
    "tmodel.fit (x_train, y_train)\n",
    "\n",
    "print('\\nNeural Network After Parameter Tuneing')\n",
    "print('Best Parameters: ', tmodel.best_params_)\n",
    "print(\"Training score: {:.2f}\". format(tmodel.score(x_train, y_train))) \n",
    "print(\"Test score: {:.2f}\". format(tmodel.score(x_test, y_test)))\n",
    "\n",
    "T_test.append(tmodel.score(x_test, y_test))"
   ]
  },
  {
   "cell_type": "code",
   "execution_count": 23,
   "metadata": {},
   "outputs": [
    {
     "data": {
      "text/plain": [
       "<BarContainer object of 3 artists>"
      ]
     },
     "execution_count": 23,
     "metadata": {},
     "output_type": "execute_result"
    },
    {
     "data": {
      "image/png": "[encoded data removed]",
      "text/plain": [
       "<Figure size 432x288 with 1 Axes>"
      ]
     },
     "metadata": {
      "needs_background": "light"
     },
     "output_type": "display_data"
    }
   ],
   "source": [
    "x=['Logistic Reg','Decision Tree', 'Neural Network Classifier']\n",
    "y = T_test\n",
    "plt.bar(x,y,label='Algos', color='grey')"
   ]
  },
  {
   "cell_type": "code",
   "execution_count": null,
   "metadata": {},
   "outputs": [],
   "source": []
  },
  {
   "cell_type": "code",
   "execution_count": 24,
   "metadata": {},
   "outputs": [
    {
     "data": {
      "text/plain": [
       "MLPClassifier(activation='logistic', alpha=1e-05, batch_size='auto',\n",
       "       beta_1=0.9, beta_2=0.999, early_stopping=False, epsilon=1e-08,\n",
       "       hidden_layer_sizes=(5, 2), learning_rate='constant',\n",
       "       learning_rate_init=0.001, max_iter=200, momentum=0.9,\n",
       "       n_iter_no_change=10, nesterovs_momentum=True, power_t=0.5,\n",
       "       random_state=1, shuffle=True, solver='sgd', tol=0.0001,\n",
       "       validation_fraction=0.1, verbose=False, warm_start=False)"
      ]
     },
     "execution_count": 24,
     "metadata": {},
     "output_type": "execute_result"
    }
   ],
   "source": [
    "#Neural Network for Prediction\n",
    "nn = MLPClassifier(activation='logistic',solver='sgd', alpha=1e-5,hidden_layer_sizes=(5, 2), random_state=1)\n",
    "\n",
    "nn.fit(x_train,y_train)       \n"
   ]
  },
  {
   "cell_type": "code",
   "execution_count": 1,
   "metadata": {},
   "outputs": [
    {
     "ename": "NameError",
     "evalue": "name 'nn' is not defined",
     "output_type": "error",
     "traceback": [
      "\u001b[1;31m---------------------------------------------------------------------------\u001b[0m",
      "\u001b[1;31mNameError\u001b[0m                                 Traceback (most recent call last)",
      "\u001b[1;32m<ipython-input-1-ed980e819b70>\u001b[0m in \u001b[0;36m<module>\u001b[1;34m\u001b[0m\n\u001b[1;32m----> 1\u001b[1;33m \u001b[0mpred\u001b[0m \u001b[1;33m=\u001b[0m \u001b[0mnn\u001b[0m\u001b[1;33m.\u001b[0m\u001b[0mpredict\u001b[0m\u001b[1;33m(\u001b[0m\u001b[0mx_test\u001b[0m\u001b[1;33m)\u001b[0m\u001b[1;33m\u001b[0m\u001b[1;33m\u001b[0m\u001b[0m\n\u001b[0m\u001b[0;32m      2\u001b[0m \u001b[0msco\u001b[0m \u001b[1;33m=\u001b[0m \u001b[0mnn\u001b[0m\u001b[1;33m.\u001b[0m\u001b[0mscore\u001b[0m\u001b[1;33m(\u001b[0m\u001b[0mx_test\u001b[0m\u001b[1;33m,\u001b[0m\u001b[0my_test\u001b[0m\u001b[1;33m)\u001b[0m\u001b[1;33m\u001b[0m\u001b[1;33m\u001b[0m\u001b[0m\n\u001b[0;32m      3\u001b[0m \u001b[0mprint\u001b[0m\u001b[1;33m(\u001b[0m\u001b[0msco\u001b[0m\u001b[1;33m)\u001b[0m\u001b[1;33m\u001b[0m\u001b[1;33m\u001b[0m\u001b[0m\n\u001b[0;32m      4\u001b[0m \u001b[0mprint\u001b[0m\u001b[1;33m(\u001b[0m\u001b[0my_test\u001b[0m\u001b[1;33m)\u001b[0m\u001b[1;33m\u001b[0m\u001b[1;33m\u001b[0m\u001b[0m\n",
      "\u001b[1;31mNameError\u001b[0m: name 'nn' is not defined"
     ]
    }
   ],
   "source": [
    "pred = nn.predict(x_test)\n",
    "sco = nn.score(x_test,y_test)\n",
    "print(sco)\n",
    "print(y_test)"
   ]
  },
  {
   "cell_type": "code",
   "execution_count": null,
   "metadata": {},
   "outputs": [],
   "source": []
  }
 ],
 "metadata": {
  "kernelspec": {
   "display_name": "Python 3",
   "language": "python",
   "name": "python3"
  },
  "language_info": {
   "codemirror_mode": {
    "name": "ipython",
    "version": 3
   },
   "file_extension": ".py",
   "mimetype": "text/x-python",
   "name": "python",
   "nbconvert_exporter": "python",
   "pygments_lexer": "ipython3",
   "version": "3.7.3"
  }
 },
 "nbformat": 4,
 "nbformat_minor": 2
}
