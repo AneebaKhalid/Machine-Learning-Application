{
 "cells": [
  {
   "cell_type": "code",
   "execution_count": null,
   "metadata": {},
   "outputs": [],
   "source": [
    "#Question 7"
   ]
  },
  {
   "cell_type": "code",
   "execution_count": 5,
   "metadata": {},
   "outputs": [],
   "source": [
    "#Imports\n",
    "import pandas as pa\n",
    "import numpy as np\n",
    "import seaborn as sb\n",
    "from matplotlib import pyplot as plt\n",
    "\n",
    "from sklearn.model_selection import train_test_split, cross_val_score, KFold\n",
    "import math\n",
    "import warnings\n",
    "warnings.filterwarnings('ignore')"
   ]
  },
  {
   "cell_type": "code",
   "execution_count": 6,
   "metadata": {},
   "outputs": [],
   "source": [
    "from sklearn import model_selection\n",
    "from sklearn.linear_model import LogisticRegression\n",
    "from sklearn.tree import DecisionTreeClassifier\n",
    "from sklearn.neighbors import KNeighborsClassifier\n",
    "from sklearn.discriminant_analysis import LinearDiscriminantAnalysis\n",
    "from sklearn.naive_bayes import GaussianNB\n",
    "from sklearn.svm import SVC\n",
    "from sklearn.ensemble import RandomForestClassifier\n",
    "from sklearn.metrics import mean_squared_error, accuracy_score"
   ]
  },
  {
   "cell_type": "code",
   "execution_count": 7,
   "metadata": {},
   "outputs": [],
   "source": [
    "#Data Frame and Missing Values\n",
    "df = pa.read_csv('aat1_csv.csv')\n",
    "df1 = pa.read_csv('dataset.csv')\n",
    "df_usa = df1[df1.iso == 'USA']\n",
    "df_usa_41_10 = df_usa[(df_usa.year >= 1941) & (df_usa.year <= 2010)]\n",
    "merged1 = pa.merge(df_usa_41_10, df, on='year')\n",
    "merged = merged1.fillna(merged1.median())"
   ]
  },
  {
   "cell_type": "code",
   "execution_count": 8,
   "metadata": {},
   "outputs": [],
   "source": [
    "#Predictors and Target Value\n",
    "feature_cols =['labor_force','employed_percent','employed_total','unemployed_percent','unemployed',\n",
    "               'population','not_in_labor']\n",
    "y = merged.pk_norm\n",
    "X = merged[feature_cols]"
   ]
  },
  {
   "cell_type": "code",
   "execution_count": 9,
   "metadata": {},
   "outputs": [],
   "source": [
    "#Train Test Split\n",
    "X_train, X_test, y_train, y_test = train_test_split( X, y, test_size = 0.3, random_state = 100)"
   ]
  },
  {
   "cell_type": "code",
   "execution_count": 11,
   "metadata": {},
   "outputs": [],
   "source": [
    "#Feature Selection using Feature Importance and Random Forest\n",
    "rfc=RandomForestClassifier(n_estimators=600)\n",
    "rfc.fit(X_train,y_train)\n",
    "\n",
    "y_pred=rfc.predict(X_test)"
   ]
  },
  {
   "cell_type": "code",
   "execution_count": 13,
   "metadata": {},
   "outputs": [
    {
     "name": "stdout",
     "output_type": "stream",
     "text": [
      "Accuracy with Random Forest: 0.6818181818181818\n",
      "\n",
      "Feature Importance\n",
      "unemployed_percent    0.222501\n",
      "unemployed            0.168161\n",
      "not_in_labor          0.129990\n",
      "population            0.126484\n",
      "employed_percent      0.123494\n",
      "labor_force           0.120142\n",
      "employed_total        0.109228\n",
      "dtype: float64\n"
     ]
    }
   ],
   "source": [
    "print(\"Accuracy with Random Forest:\",accuracy_score(y_test, y_pred))\n",
    "\n",
    "f_imp = pa.Series(rfc.feature_importances_,index=feature_cols).sort_values(ascending=False)\n",
    "print('\\nFeature Importance')\n",
    "print(f_imp)\n"
   ]
  },
  {
   "cell_type": "code",
   "execution_count": 14,
   "metadata": {},
   "outputs": [
    {
     "data": {
      "image/png": "[encoded data removed]",
      "text/plain": [
       "<Figure size 432x288 with 1 Axes>"
      ]
     },
     "metadata": {
      "needs_background": "light"
     },
     "output_type": "display_data"
    }
   ],
   "source": [
    "#Bar Plot for Comparison\n",
    "sb.barplot(x=f_imp, y=f_imp.index)\n",
    "plt.xlabel('Feature Importance Score')\n",
    "plt.ylabel('Feature Name')\n",
    "plt.title(\"Visualizing Important Features\")\n",
    "plt.show()"
   ]
  },
  {
   "cell_type": "code",
   "execution_count": 15,
   "metadata": {},
   "outputs": [],
   "source": [
    "#Predictors after Feature Selection\n",
    "new_X = X[['unemployed_percent','unemployed','employed_percent','not_in_labor']]"
   ]
  },
  {
   "cell_type": "code",
   "execution_count": 16,
   "metadata": {},
   "outputs": [],
   "source": [
    "X_train, X_test, y_train, y_test = train_test_split( new_X, y, test_size = 0.3, random_state = 100)"
   ]
  },
  {
   "cell_type": "code",
   "execution_count": 17,
   "metadata": {},
   "outputs": [],
   "source": [
    "from sklearn.neural_network import MLPClassifier, MLPRegressor\n",
    "from sklearn.metrics import mean_squared_error,confusion_matrix, precision_score, recall_score,auc,roc_curve,roc_auc_score,accuracy_score\n",
    "from sklearn.model_selection import train_test_split\n",
    "from sklearn.metrics import confusion_matrix"
   ]
  },
  {
   "cell_type": "code",
   "execution_count": 18,
   "metadata": {},
   "outputs": [
    {
     "name": "stdout",
     "output_type": "stream",
     "text": [
      "Logistic Regression: 0.818182 \n",
      "Training score: 0.86\n",
      "Test score: 0.82\n",
      "RMSE: 0.43\n",
      "\t\n",
      "KNN: 0.818182 \n",
      "Training score: 0.88\n",
      "Test score: 0.82\n",
      "RMSE: 0.43\n",
      "\t\n",
      "Decision Tree: 0.772727 \n",
      "Training score: 1.00\n",
      "Test score: 0.77\n",
      "RMSE: 0.48\n",
      "\t\n",
      "Naive Bayes: 0.636364 \n",
      "Training score: 0.84\n",
      "Test score: 0.64\n",
      "RMSE: 0.60\n",
      "\t\n",
      "Random Forest: 0.590909 \n",
      "Training score: 0.96\n",
      "Test score: 0.59\n",
      "RMSE: 0.64\n",
      "\t\n",
      "Support Vector Machine: 0.818182 \n",
      "Training score: 1.00\n",
      "Test score: 0.82\n",
      "RMSE: 0.43\n",
      "\t\n"
     ]
    }
   ],
   "source": [
    "algos = []\n",
    "algos.append(('Logistic Regression', LogisticRegression()))\n",
    "algos.append(('KNN', KNeighborsClassifier()))\n",
    "algos.append(('Decision Tree', DecisionTreeClassifier(criterion=\"entropy\")))\n",
    "algos.append(('Naive Bayes', GaussianNB()))\n",
    "algos.append(('Random Forest', RandomForestClassifier()))\n",
    "algos.append(('Support Vector Machine', SVC(probability=True)))\n",
    "\n",
    "#plt.figure(figsize=(10,8))\n",
    "\n",
    "names = []\n",
    "results = []\n",
    "\n",
    "for name, algo in algos:\n",
    "    fittedModel = algo.fit(X_train,y_train)\n",
    "    predictions = fittedModel.predict(X_test)\n",
    "    results.append(accuracy_score(y_test,predictions))\n",
    "    names.append(name)\n",
    "    msg = \"%s: %f \" % (name, accuracy_score(y_test,predictions).mean())\n",
    "    print(msg)\n",
    "    print('Training score: {:.2f}'.format(fittedModel.score(X_train, y_train)))\n",
    "    print('Test score: {:.2f}'.format(fittedModel.score(X_test, y_test)))\n",
    "    mse = mean_squared_error(y_test, predictions)\n",
    "    rmse = math.sqrt(mse)\n",
    "\n",
    "    print('RMSE: {:.2f}'.format(rmse))\n",
    "    print('\\t')\n",
    "    \n",
    "    #print(confusion_matrix(Y_Test,predictions))\n",
    "    #fpr, tpr, thresholds = roc_curve(y_test,fittedModel.predict_proba(X_test)[:,1])\n",
    "    #roc_auc = roc_auc_score(y_test,predictions)\n",
    "    #plt.plot(fpr,tpr, label='%s  (area = %0.2f)' % (name, roc_auc))\n",
    "    #print('\\t')\n",
    "\n",
    "\n",
    "#plt.plot([0, 1], [0, 1], 'k--')\n",
    "#plt.xlim([-0.1, 1.1])\n",
    "#plt.ylim([-0.1, 1.1])\n",
    "#plt.xlabel('False Positive Rate')\n",
    "#plt.ylabel('True Positive Rate')\n",
    "#plt.legend(loc=0, fontsize='small')"
   ]
  },
  {
   "cell_type": "markdown",
   "metadata": {},
   "source": [
    "# Parameter Tuning"
   ]
  },
  {
   "cell_type": "code",
   "execution_count": 19,
   "metadata": {},
   "outputs": [
    {
     "name": "stdout",
     "output_type": "stream",
     "text": [
      "Logistic Regression After Tuning best Params:  {'penalty': 'l2', 'random_state': 80, 'solver': 'sag'}\n",
      "Training score: 0.88\n",
      "Test score: 0.82\n"
     ]
    }
   ],
   "source": [
    "#Logistic Regression\n",
    "param = { \n",
    "              'solver': ['newton-cg', 'lbfgs','liblinear', 'sag'],\n",
    "              'random_state' : [80],\n",
    "              'penalty':['l2']\n",
    "            \n",
    "             }\n",
    "\n",
    "tuned_model = model_selection.GridSearchCV(LogisticRegression(), \n",
    "                param_grid=param, cv=12,scoring = 'accuracy')\n",
    "tuned_model.fit(X_train, y_train)\n",
    "\n",
    "print('Logistic Regression After Tuning best Params: ', tuned_model.best_params_)\n",
    "print(\"Training score: {:.2f}\". format(tuned_model.score(X_train, y_train))) \n",
    "print(\"Test score: {:.2f}\". format(tuned_model.score(X_test, y_test)))\n",
    "\n",
    "#T_test.append(tune_model.score(X_test, y_test))"
   ]
  },
  {
   "cell_type": "code",
   "execution_count": 20,
   "metadata": {},
   "outputs": [
    {
     "name": "stdout",
     "output_type": "stream",
     "text": [
      "\n",
      "Decision Tree after Tuning best Params :  {'criterion': 'gini', 'max_depth': 1, 'splitter': 'random'}\n",
      "Training score: 0.88\n",
      "Test score: 0.82\n"
     ]
    }
   ],
   "source": [
    "#Decision Tree\n",
    "param_g = {'criterion': ['gini', 'entropy'],\n",
    "              'splitter': ['best', 'random'],\n",
    "              'max_depth': [1, 2, 3, 4, 5, 6, 7, 8, 9, 10, 11, 12, 13, 14],\n",
    "              \n",
    "             }\n",
    "\n",
    "t_model = model_selection.GridSearchCV(DecisionTreeClassifier(), \n",
    "                    param_grid=param_g, cv=10, scoring = 'accuracy')\n",
    "t_model.fit(X_train, y_train)\n",
    "\n",
    "\n",
    "print('\\nDecision Tree after Tuning best Params : ', t_model.best_params_)\n",
    "print(\"Training score: {:.2f}\". format(t_model.score(X_train, y_train))) \n",
    "print(\"Test score: {:.2f}\". format(t_model.score(X_test, y_test)))\n",
    "\n",
    "#T_test.append(tune_model.score(x_test, y_test))"
   ]
  },
  {
   "cell_type": "code",
   "execution_count": 21,
   "metadata": {},
   "outputs": [
    {
     "name": "stdout",
     "output_type": "stream",
     "text": [
      "\n",
      "KNN after Tuning Score and Params\n",
      "0.8775510204081632\n",
      "{'n_neighbors': 2}\n",
      "KNeighborsClassifier(algorithm='auto', leaf_size=30, metric='minkowski',\n",
      "           metric_params=None, n_jobs=None, n_neighbors=2, p=2,\n",
      "           weights='uniform')\n"
     ]
    }
   ],
   "source": [
    "#K Nearest Neighbour\n",
    "knn = KNeighborsClassifier(n_neighbors= 10)\n",
    "kf = KFold(n_splits=10)\n",
    "k_range = range(1,10)\n",
    "prm_gr = dict(n_neighbors = k_range)\n",
    "grid = model_selection.GridSearchCV(knn, param_grid=prm_gr, cv=kf, scoring='accuracy')\n",
    "grid.fit(X_train,y_train)\n",
    "print('\\nKNN after Tuning Score and Params')\n",
    "print(grid.best_score_)\n",
    "print(grid.best_params_)\n",
    "print(grid.best_estimator_)"
   ]
  },
  {
   "cell_type": "code",
   "execution_count": 22,
   "metadata": {},
   "outputs": [
    {
     "name": "stdout",
     "output_type": "stream",
     "text": [
      "Training Score\n",
      "0.8775510204081632\n",
      "Testing Score\n",
      "0.8181818181818182\n"
     ]
    }
   ],
   "source": [
    "print('Training Score')\n",
    "print(grid.score(X_train, y_train))\n",
    "print('Testing Score')\n",
    "print(grid.score(X_test, y_test))"
   ]
  },
  {
   "cell_type": "code",
   "execution_count": 23,
   "metadata": {},
   "outputs": [
    {
     "name": "stdout",
     "output_type": "stream",
     "text": [
      "\n",
      "Random Forest Classifier after Tung Best Params:  {'max_depth': 2, 'n_estimators': 1}\n",
      "Training score: 0.88\n",
      "Test score: 0.55\n"
     ]
    }
   ],
   "source": [
    "#Random Forest\n",
    "para_g = {'n_estimators':[1,2,10,15],\n",
    "              'max_depth': [1, 2, 3, 4, 5, 6, 7, 8, 9, 10],\n",
    "              \n",
    "             }\n",
    "\n",
    "tunemodel = model_selection.GridSearchCV(RandomForestClassifier(), \n",
    "                    param_grid=para_g, cv=10, scoring = 'accuracy')\n",
    "tunemodel.fit(X_train, y_train)\n",
    "\n",
    "\n",
    "print('\\nRandom Forest Classifier after Tung Best Params: ', tunemodel.best_params_)\n",
    "print(\"Training score: {:.2f}\". format(tunemodel.score(X_train, y_train))) \n",
    "print(\"Test score: {:.2f}\". format(tunemodel.score(X_test, y_test)))\n"
   ]
  },
  {
   "cell_type": "code",
   "execution_count": null,
   "metadata": {},
   "outputs": [],
   "source": [
    "#Support Vector Machine\n",
    "#para_grid = {'kernel': ['linear', 'poly', 'rbf'],\n",
    " #              'gamma': [ 0.001,0.002],\n",
    "  #           }\n",
    "\n",
    "#tunmodel = model_selection.GridSearchCV(SVC(probability=True),param_grid=para_grid, cv=10, scoring = 'accuracy')\n",
    "\n",
    "#tunmodel.fit(X_train, y_train)\n",
    "\n",
    "\n",
    "#print('Support Vector Machine after Tuning Params: ', tunmodel.best_params_)\n",
    "#print(\"Training score: {:.2f}\". format(tunmodel.score(X_train, y_train))) \n",
    "#print(\"Test score: {:.2f}\". format(tunmodel.score(X_test, y_test)))\n"
   ]
  },
  {
   "cell_type": "code",
   "execution_count": null,
   "metadata": {},
   "outputs": [],
   "source": []
  },
  {
   "cell_type": "code",
   "execution_count": null,
   "metadata": {},
   "outputs": [],
   "source": []
  }
 ],
 "metadata": {
  "kernelspec": {
   "display_name": "Python 3",
   "language": "python",
   "name": "python3"
  },
  "language_info": {
   "codemirror_mode": {
    "name": "ipython",
    "version": 3
   },
   "file_extension": ".py",
   "mimetype": "text/x-python",
   "name": "python",
   "nbconvert_exporter": "python",
   "pygments_lexer": "ipython3",
   "version": "3.7.3"
  }
 },
 "nbformat": 4,
 "nbformat_minor": 2
}
