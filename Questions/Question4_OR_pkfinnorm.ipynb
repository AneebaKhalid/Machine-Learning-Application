{
 "cells": [
  {
   "cell_type": "markdown",
   "metadata": {},
   "source": [
    "# Question 4"
   ]
  },
  {
   "cell_type": "markdown",
   "metadata": {},
   "source": [
    "# Can we predict that Is there Crisis JST in the present/coming year?"
   ]
  },
  {
   "cell_type": "code",
   "execution_count": 5,
   "metadata": {},
   "outputs": [],
   "source": [
    "#Packages Import\n",
    "import pandas as pd\n",
    "import numpy as np\n",
    "import sklearn\n",
    "import matplotlib.pyplot as plt\n",
    "\n",
    "from sklearn.model_selection import train_test_split\n",
    "from sklearn.metrics import confusion_matrix\n",
    "from sklearn.metrics import accuracy_score\n",
    "from sklearn.metrics import  mean_squared_error, auc,roc_curve,roc_auc_score\n",
    "from sklearn.neighbors import KNeighborsClassifier\n",
    "from sklearn.linear_model import LogisticRegression\n",
    "\n",
    "#Data Frame and Missing Values\n",
    "df = pd.read_csv('dataset.csv')\n",
    "#deu = df[df['iso'] == \"FRA\"]\n",
    "\n",
    "deu_filled = df.fillna(df.median())"
   ]
  },
  {
   "cell_type": "code",
   "execution_count": 6,
   "metadata": {},
   "outputs": [],
   "source": [
    "#Predictors and Target Values and Data Splitting \n",
    "X = deu_filled[['cpi', 'rgdp' ,'govcris','protests', 'gdppeak']]\n",
    "y = (deu_filled['pk_norm']) | (deu_filled['pk_dis'])| (deu_filled['pk_fin'])\n",
    "\n",
    "X_Train, X_Test, Y_Train, Y_Test = train_test_split(X,y,test_size=0.2)\n"
   ]
  },
  {
   "cell_type": "markdown",
   "metadata": {},
   "source": [
    "# Apply Logistic Regression"
   ]
  },
  {
   "cell_type": "code",
   "execution_count": 7,
   "metadata": {},
   "outputs": [
    {
     "name": "stderr",
     "output_type": "stream",
     "text": [
      "C:\\Users\\Aneeba\\Anaconda3\\lib\\site-packages\\sklearn\\linear_model\\logistic.py:433: FutureWarning: Default solver will be changed to 'lbfgs' in 0.22. Specify a solver to silence this warning.\n",
      "  FutureWarning)\n"
     ]
    }
   ],
   "source": [
    "model_log = LogisticRegression(penalty='l2',C = 1,random_state = 0)\n",
    "\n",
    "fitted_Model = model_log.fit(X_Train,Y_Train)\n",
    "predictions = fitted_Model.predict(X_Test)\n"
   ]
  },
  {
   "cell_type": "code",
   "execution_count": 8,
   "metadata": {},
   "outputs": [
    {
     "name": "stdout",
     "output_type": "stream",
     "text": [
      "[[487   0]\n",
      " [  0  93]]\n"
     ]
    }
   ],
   "source": [
    "print('Logistic Regression')\n",
    "print('Confusion Matrix')\n",
    "print(confusion_matrix(Y_Test,predictions))"
   ]
  },
  {
   "cell_type": "code",
   "execution_count": 9,
   "metadata": {},
   "outputs": [
    {
     "name": "stdout",
     "output_type": "stream",
     "text": [
      "1.0\n",
      "1.0\n"
     ]
    }
   ],
   "source": [
    "print('Accuracy Score')\n",
    "print(accuracy_score(Y_Test,predictions))\n",
    "print('Roc_auc Score')\n",
    "print(roc_auc_score(Y_Test,predictions))"
   ]
  },
  {
   "cell_type": "code",
   "execution_count": null,
   "metadata": {},
   "outputs": [],
   "source": []
  },
  {
   "cell_type": "code",
   "execution_count": null,
   "metadata": {},
   "outputs": [],
   "source": []
  },
  {
   "cell_type": "markdown",
   "metadata": {},
   "source": [
    "# Naive Bayes"
   ]
  },
  {
   "cell_type": "code",
   "execution_count": 10,
   "metadata": {},
   "outputs": [],
   "source": [
    "from sklearn.naive_bayes import GaussianNB"
   ]
  },
  {
   "cell_type": "code",
   "execution_count": 11,
   "metadata": {},
   "outputs": [
    {
     "name": "stdout",
     "output_type": "stream",
     "text": [
      "[[481   6]\n",
      " [ 91   2]]\n",
      "0.8327586206896552\n",
      "0.5045925239009957\n"
     ]
    }
   ],
   "source": [
    "model = GaussianNB()\n",
    "\n",
    "fittedModel = model.fit(X_Train,Y_Train)\n",
    "predict = fittedModel.predict(X_Test)\n",
    "#priors=None, var_smoothing=1e-09\n",
    "print('Gaussian Naive Bayes')\n",
    "print('Confusion Matrix')\n",
    "print(confusion_matrix(Y_Test,predict))\n",
    "print('Accuracy Score')\n",
    "print(accuracy_score(Y_Test,predict))\n",
    "print('Roc_auc Score'\n",
    "print(roc_auc_score(Y_Test,predict))"
   ]
  },
  {
   "cell_type": "code",
   "execution_count": 12,
   "metadata": {},
   "outputs": [],
   "source": [
    "#Confusion Matrix\n",
    "nb_roc = roc_auc_score(Y_Test,predict)\n",
    "fpr1,tpr1,thresholds1=roc_curve(Y_Test,fittedModel.predict_proba(X_Test)[:,1])"
   ]
  },
  {
   "cell_type": "code",
   "execution_count": 13,
   "metadata": {},
   "outputs": [
    {
     "data": {
      "text/plain": [
       "<matplotlib.legend.Legend at 0x1d011de3898>"
      ]
     },
     "execution_count": 13,
     "metadata": {},
     "output_type": "execute_result"
    },
    {
     "data": {
      "image/png": "[encoded data removed]",
      "text/plain": [
       "<Figure size 432x288 with 1 Axes>"
      ]
     },
     "metadata": {
      "needs_background": "light"
     },
     "output_type": "display_data"
    }
   ],
   "source": [
    "plt.title('ROC Curve comparison')\n",
    "plt.plot([0, 1], [0, 1], 'k--')\n",
    "#plt.plot(fpr,tpr, label=\"area=%0.2f\" %log_roc)\n",
    "plt.plot(fpr1,tpr1, label=\"area=%0.2f\" %nb_roc)\n",
    "plt.xlim([-0.1, 1.1])\n",
    "plt.ylim([-0.1, 1.1])\n",
    "plt.xlabel('False Positive Rate')\n",
    "plt.ylabel('True Positive Rate')\n",
    "plt.legend(loc=0, fontsize='small')"
   ]
  },
  {
   "cell_type": "markdown",
   "metadata": {},
   "source": [
    "# KNN simple confusion matrix"
   ]
  },
  {
   "cell_type": "code",
   "execution_count": 14,
   "metadata": {},
   "outputs": [
    {
     "name": "stdout",
     "output_type": "stream",
     "text": [
      "[[487   0]\n",
      " [ 72  21]]\n",
      "0.8758620689655172\n",
      "0.6129032258064516\n"
     ]
    }
   ],
   "source": [
    "knn = KNeighborsClassifier(n_neighbors= 10)\n",
    "fit_knn = knn.fit(X_Train,Y_Train)\n",
    "predict = fit_knn.predict(X_Test)\n",
    "\n",
    "print('K Nearest Neighbour')\n",
    "print('Confusion Matrix')\n",
    "print(confusion_matrix(Y_Test,predict))\n",
    "print('Accuracy Score')\n",
    "print(accuracy_score(Y_Test,predict))\n",
    "print('Roc_auc Score')\n",
    "print(roc_auc_score(Y_Test,predict))"
   ]
  },
  {
   "cell_type": "code",
   "execution_count": null,
   "metadata": {},
   "outputs": [],
   "source": []
  },
  {
   "cell_type": "markdown",
   "metadata": {},
   "source": [
    "# KNN Grid Search"
   ]
  },
  {
   "cell_type": "code",
   "execution_count": 15,
   "metadata": {},
   "outputs": [
    {
     "name": "stdout",
     "output_type": "stream",
     "text": [
      "0.893448275862069\n",
      "{'n_neighbors': 2}\n",
      "KNeighborsClassifier(algorithm='auto', leaf_size=30, metric='minkowski',\n",
      "           metric_params=None, n_jobs=None, n_neighbors=2, p=2,\n",
      "           weights='uniform')\n"
     ]
    }
   ],
   "source": [
    "from sklearn.model_selection import GridSearchCV\n",
    "k_range = range(1,10)\n",
    "prm_gr = dict(n_neighbors = k_range)\n",
    "grid = GridSearchCV(knn, param_grid=prm_gr, cv=10, scoring='accuracy')\n",
    "grid.fit(X,y)\n",
    "print('K Nearest Neighbour after Parameter Tuning')\n",
    "print('Best Score')\n",
    "print(grid.best_score_)\n",
    "print('Best Parameters')\n",
    "print(grid.best_params_)\n",
    "print(grid.best_estimator_)"
   ]
  },
  {
   "cell_type": "code",
   "execution_count": 16,
   "metadata": {},
   "outputs": [
    {
     "name": "stdout",
     "output_type": "stream",
     "text": [
      "[[484   3]\n",
      " [ 55  38]]\n",
      "0.9\n",
      "0.7012209931332937\n"
     ]
    }
   ],
   "source": [
    "af_knn = KNeighborsClassifier(algorithm='auto', leaf_size=30, metric='minkowski',\n",
    "           metric_params=None, n_jobs=None, n_neighbors=2, p=2,\n",
    "           weights='uniform')\n",
    "fit_knn = af_knn.fit(X_Train,Y_Train)\n",
    "predict = fit_knn.predict(X_Test)\n",
    "\n",
    "\n",
    "print(confusion_matrix(Y_Test,predict))\n",
    "print(accuracy_score(Y_Test,predict))\n",
    "print(roc_auc_score(Y_Test,predict))"
   ]
  },
  {
   "cell_type": "markdown",
   "metadata": {},
   "source": [
    "# Decision Tree Simple"
   ]
  },
  {
   "cell_type": "code",
   "execution_count": 17,
   "metadata": {},
   "outputs": [],
   "source": [
    "from sklearn.tree import DecisionTreeClassifier "
   ]
  },
  {
   "cell_type": "code",
   "execution_count": 18,
   "metadata": {},
   "outputs": [
    {
     "name": "stdout",
     "output_type": "stream",
     "text": [
      "[[487   0]\n",
      " [  0  93]]\n",
      "1.0\n",
      "1.0\n"
     ]
    }
   ],
   "source": [
    "dtalg = DecisionTreeClassifier() \n",
    "dtalg.fit(X_Train, Y_Train)\n",
    "predict = dtalg.predict(X_Test)\n",
    "\n",
    "print('confusion Matrix')\n",
    "print(confusion_matrix(Y_Test,predict))\n",
    "print('Accuracy Score')\n",
    "print(accuracy_score(Y_Test,predict))\n",
    "print('Roc_auc Score')\n",
    "print(roc_auc_score(Y_Test,predict))"
   ]
  },
  {
   "cell_type": "markdown",
   "metadata": {},
   "source": [
    "# Decision Tree Parameter Tuning"
   ]
  },
  {
   "cell_type": "code",
   "execution_count": 19,
   "metadata": {},
   "outputs": [
    {
     "name": "stdout",
     "output_type": "stream",
     "text": [
      "AFTER tuning Parameters:  {'criterion': 'gini', 'max_depth': 1, 'splitter': 'best'}\n",
      "Training score: 1.00\n",
      "Test score: 1.00\n"
     ]
    }
   ],
   "source": [
    "param_grid = {'criterion': ['gini', 'entropy'],\n",
    "              'splitter': ['best', 'random'],\n",
    "              'max_depth': [1, 2, 3, 4, 5, 6, 7, 8, 9, 10],\n",
    "              \n",
    "             }\n",
    "\n",
    "tune_model = GridSearchCV(dtalg, \n",
    "                    param_grid=param_grid, cv=12, scoring = 'roc_auc')\n",
    "tune_model.fit (X_Train, Y_Train)\n",
    "\n",
    "print('Decision Tree')\n",
    "print('AFTER tuning Parameters: ', tune_model.best_params_)\n",
    "print(\"Training score: {:.2f}\". format(tune_model.score(X_Train, Y_Train))) \n",
    "print(\"Test score: {:.2f}\". format(tune_model.score(X_Test, Y_Test)))"
   ]
  },
  {
   "cell_type": "code",
   "execution_count": 57,
   "metadata": {},
   "outputs": [
    {
     "name": "stdout",
     "output_type": "stream",
     "text": [
      "[[508  12]\n",
      " [  5  55]]\n",
      "0.9706896551724138\n",
      "0.9467948717948717\n"
     ]
    }
   ],
   "source": [
    "#After Tuning\n",
    "af_dt = DecisionTreeClassifier(criterion= 'entropy', max_depth= 3, splitter='best')\n",
    "fit_dt = af_dt.fit(X_Train,Y_Train)\n",
    "predict = fit_dt.predict(X_Test)\n",
    "\n",
    "print('Confusion Matrix')\n",
    "print(confusion_matrix(Y_Test,predict))\n",
    "print('Accuracy score')\n",
    "print(accuracy_score(Y_Test,predict))\n",
    "print('Roc_auc Score')\n",
    "print(roc_auc_score(Y_Test,predict))"
   ]
  },
  {
   "cell_type": "code",
   "execution_count": 74,
   "metadata": {},
   "outputs": [
    {
     "data": {
      "text/plain": [
       "Text(0.5, 1.0, 'Accuracy and Roc_auc Score Difference')"
      ]
     },
     "execution_count": 74,
     "metadata": {},
     "output_type": "execute_result"
    },
    {
     "data": {
      "image/png": "[encoded data removed]",
      "text/plain": [
       "<Figure size 432x288 with 1 Axes>"
      ]
     },
     "metadata": {
      "needs_background": "light"
     },
     "output_type": "display_data"
    }
   ],
   "source": [
    "#Comparison \n",
    "d =[89,91,95]\n",
    "a =[50,62,85]\n",
    "b = ['GaussianNB','KNN','Decision Tree']\n",
    "#col = df.ccode\n",
    "plt.bar(b,d, color='g')\n",
    "plt.bar(b,a, color='grey')\n",
    "plt.title('Accuracy and Roc_auc Score Difference')"
   ]
  },
  {
   "cell_type": "code",
   "execution_count": 75,
   "metadata": {},
   "outputs": [
    {
     "data": {
      "text/plain": [
       "Text(0.5, 1.0, 'Accuracy and Roc_auc Score Difference After Parameter Tuning')"
      ]
     },
     "execution_count": 75,
     "metadata": {},
     "output_type": "execute_result"
    },
    {
     "data": {
      "image/png": "[encoded data removed]",
      "text/plain": [
       "<Figure size 432x288 with 1 Axes>"
      ]
     },
     "metadata": {
      "needs_background": "light"
     },
     "output_type": "display_data"
    }
   ],
   "source": [
    "#After Parameter Tuning Comparison\n",
    "acc =[89,93,97]\n",
    "auc =[50,64,94]\n",
    "b = ['GaussianNB','KNN','Decision Tree']\n",
    "#col = df.ccode\n",
    "plt.bar(b,acc, color='b')\n",
    "plt.bar(b,auc, color='grey')\n",
    "plt.title('Accuracy and Roc_auc Score Difference After Parameter Tuning')"
   ]
  },
  {
   "cell_type": "code",
   "execution_count": null,
   "metadata": {},
   "outputs": [],
   "source": []
  }
 ],
 "metadata": {
  "kernelspec": {
   "display_name": "Python 3",
   "language": "python",
   "name": "python3"
  },
  "language_info": {
   "codemirror_mode": {
    "name": "ipython",
    "version": 3
   },
   "file_extension": ".py",
   "mimetype": "text/x-python",
   "name": "python",
   "nbconvert_exporter": "python",
   "pygments_lexer": "ipython3",
   "version": "3.7.3"
  }
 },
 "nbformat": 4,
 "nbformat_minor": 2
}
