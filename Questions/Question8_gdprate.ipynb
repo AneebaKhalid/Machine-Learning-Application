{
 "cells": [
  {
   "cell_type": "code",
   "execution_count": 1,
   "metadata": {},
   "outputs": [],
   "source": [
    "#Import\n",
    "import pandas as pd\n",
    "import numpy as np\n",
    "import seaborn as sns\n",
    "from matplotlib import pyplot as plt\n",
    "from sklearn import preprocessing\n",
    "import scipy\n",
    "from scipy.stats.stats import pearsonr\n",
    "from sklearn.model_selection import train_test_split, cross_val_score, KFold\n",
    "import math"
   ]
  },
  {
   "cell_type": "code",
   "execution_count": 2,
   "metadata": {},
   "outputs": [],
   "source": [
    "from sklearn import model_selection\n",
    "from sklearn.linear_model import LogisticRegression\n",
    "from sklearn.tree import DecisionTreeClassifier\n",
    "from sklearn.neighbors import KNeighborsClassifier\n",
    "from sklearn.discriminant_analysis import LinearDiscriminantAnalysis\n",
    "from sklearn.naive_bayes import GaussianNB\n",
    "from sklearn.svm import SVC\n",
    "from sklearn.ensemble import RandomForestClassifier\n",
    "from sklearn.metrics import mean_squared_error, accuracy_score"
   ]
  },
  {
   "cell_type": "code",
   "execution_count": 3,
   "metadata": {},
   "outputs": [],
   "source": [
    "#Data frame and missing value \n",
    "df = pd.read_csv('usa_rate.csv',encoding='iso-8859-1')\n",
    "df1 = pd.read_csv('dataset.csv',encoding='iso-8859-1')\n",
    "df_usa = df1[df1.iso == 'USA']\n",
    "df_usa_29_10 = df_usa[(df_usa.year >= 1929) & (df_usa.year <= 2014)]\n",
    "#df_usa_29_10.tail()"
   ]
  },
  {
   "cell_type": "code",
   "execution_count": 4,
   "metadata": {},
   "outputs": [],
   "source": [
    "#Data Merging"
   ]
  },
  {
   "cell_type": "code",
   "execution_count": 5,
   "metadata": {},
   "outputs": [],
   "source": [
    "merged1 = pd.merge(df_usa_29_10, df, on='year')\n",
    "merged = merged1.fillna(0)"
   ]
  },
  {
   "cell_type": "raw",
   "metadata": {},
   "source": []
  },
  {
   "cell_type": "code",
   "execution_count": 6,
   "metadata": {},
   "outputs": [
    {
     "data": {
      "text/html": [
       "<div>\n",
       "<style scoped>\n",
       "    .dataframe tbody tr th:only-of-type {\n",
       "        vertical-align: middle;\n",
       "    }\n",
       "\n",
       "    .dataframe tbody tr th {\n",
       "        vertical-align: top;\n",
       "    }\n",
       "\n",
       "    .dataframe thead th {\n",
       "        text-align: right;\n",
       "    }\n",
       "</style>\n",
       "<table border=\"1\" class=\"dataframe\">\n",
       "  <thead>\n",
       "    <tr style=\"text-align: right;\">\n",
       "      <th></th>\n",
       "      <th>ccode</th>\n",
       "      <th>iso</th>\n",
       "      <th>year</th>\n",
       "      <th>govvote</th>\n",
       "      <th>oppvote</th>\n",
       "      <th>frac</th>\n",
       "      <th>partycount</th>\n",
       "      <th>right</th>\n",
       "      <th>left</th>\n",
       "      <th>extr</th>\n",
       "      <th>...</th>\n",
       "      <th>pk_norm</th>\n",
       "      <th>pk_dis</th>\n",
       "      <th>cpi</th>\n",
       "      <th>govcris</th>\n",
       "      <th>turnover</th>\n",
       "      <th>vetopl</th>\n",
       "      <th>dict</th>\n",
       "      <th>election</th>\n",
       "      <th>election_year</th>\n",
       "      <th>gdpgrowthrate</th>\n",
       "    </tr>\n",
       "  </thead>\n",
       "  <tbody>\n",
       "    <tr>\n",
       "      <th>0</th>\n",
       "      <td>20</td>\n",
       "      <td>USA</td>\n",
       "      <td>1929</td>\n",
       "      <td>56.689999</td>\n",
       "      <td>42.290001</td>\n",
       "      <td>0.47260</td>\n",
       "      <td>3.0</td>\n",
       "      <td>0.0</td>\n",
       "      <td>0.0</td>\n",
       "      <td>0.0</td>\n",
       "      <td>...</td>\n",
       "      <td>0</td>\n",
       "      <td>0</td>\n",
       "      <td>12.976300</td>\n",
       "      <td>0.0</td>\n",
       "      <td>1.0</td>\n",
       "      <td>0.0</td>\n",
       "      <td>0</td>\n",
       "      <td>0.0</td>\n",
       "      <td>1928.0</td>\n",
       "      <td>0.0</td>\n",
       "    </tr>\n",
       "    <tr>\n",
       "      <th>1</th>\n",
       "      <td>20</td>\n",
       "      <td>USA</td>\n",
       "      <td>1930</td>\n",
       "      <td>52.720001</td>\n",
       "      <td>45.590000</td>\n",
       "      <td>0.50228</td>\n",
       "      <td>3.0</td>\n",
       "      <td>0.0</td>\n",
       "      <td>0.0</td>\n",
       "      <td>0.0</td>\n",
       "      <td>...</td>\n",
       "      <td>0</td>\n",
       "      <td>0</td>\n",
       "      <td>12.647460</td>\n",
       "      <td>2.0</td>\n",
       "      <td>0.0</td>\n",
       "      <td>0.0</td>\n",
       "      <td>0</td>\n",
       "      <td>1.0</td>\n",
       "      <td>1930.0</td>\n",
       "      <td>-8.5</td>\n",
       "    </tr>\n",
       "    <tr>\n",
       "      <th>2</th>\n",
       "      <td>20</td>\n",
       "      <td>USA</td>\n",
       "      <td>1931</td>\n",
       "      <td>52.720001</td>\n",
       "      <td>45.590000</td>\n",
       "      <td>0.50228</td>\n",
       "      <td>3.0</td>\n",
       "      <td>0.0</td>\n",
       "      <td>0.0</td>\n",
       "      <td>0.0</td>\n",
       "      <td>...</td>\n",
       "      <td>0</td>\n",
       "      <td>0</td>\n",
       "      <td>11.534490</td>\n",
       "      <td>0.0</td>\n",
       "      <td>0.0</td>\n",
       "      <td>0.0</td>\n",
       "      <td>0</td>\n",
       "      <td>0.0</td>\n",
       "      <td>1930.0</td>\n",
       "      <td>-6.4</td>\n",
       "    </tr>\n",
       "    <tr>\n",
       "      <th>3</th>\n",
       "      <td>20</td>\n",
       "      <td>USA</td>\n",
       "      <td>1932</td>\n",
       "      <td>55.709999</td>\n",
       "      <td>42.150002</td>\n",
       "      <td>0.40979</td>\n",
       "      <td>3.0</td>\n",
       "      <td>0.0</td>\n",
       "      <td>0.0</td>\n",
       "      <td>0.0</td>\n",
       "      <td>...</td>\n",
       "      <td>0</td>\n",
       "      <td>0</td>\n",
       "      <td>10.345630</td>\n",
       "      <td>0.0</td>\n",
       "      <td>0.0</td>\n",
       "      <td>0.0</td>\n",
       "      <td>0</td>\n",
       "      <td>1.0</td>\n",
       "      <td>1932.0</td>\n",
       "      <td>-12.9</td>\n",
       "    </tr>\n",
       "    <tr>\n",
       "      <th>4</th>\n",
       "      <td>20</td>\n",
       "      <td>USA</td>\n",
       "      <td>1933</td>\n",
       "      <td>55.709999</td>\n",
       "      <td>42.150002</td>\n",
       "      <td>0.40979</td>\n",
       "      <td>3.0</td>\n",
       "      <td>0.0</td>\n",
       "      <td>0.0</td>\n",
       "      <td>0.0</td>\n",
       "      <td>...</td>\n",
       "      <td>0</td>\n",
       "      <td>0</td>\n",
       "      <td>9.814432</td>\n",
       "      <td>0.0</td>\n",
       "      <td>1.0</td>\n",
       "      <td>0.0</td>\n",
       "      <td>0</td>\n",
       "      <td>0.0</td>\n",
       "      <td>1932.0</td>\n",
       "      <td>-1.2</td>\n",
       "    </tr>\n",
       "  </tbody>\n",
       "</table>\n",
       "<p>5 rows × 29 columns</p>\n",
       "</div>"
      ],
      "text/plain": [
       "   ccode  iso  year    govvote    oppvote     frac  partycount  right  left  \\\n",
       "0     20  USA  1929  56.689999  42.290001  0.47260         3.0    0.0   0.0   \n",
       "1     20  USA  1930  52.720001  45.590000  0.50228         3.0    0.0   0.0   \n",
       "2     20  USA  1931  52.720001  45.590000  0.50228         3.0    0.0   0.0   \n",
       "3     20  USA  1932  55.709999  42.150002  0.40979         3.0    0.0   0.0   \n",
       "4     20  USA  1933  55.709999  42.150002  0.40979         3.0    0.0   0.0   \n",
       "\n",
       "   extr  ...  pk_norm  pk_dis        cpi  govcris  turnover  vetopl  dict  \\\n",
       "0   0.0  ...        0       0  12.976300      0.0       1.0     0.0     0   \n",
       "1   0.0  ...        0       0  12.647460      2.0       0.0     0.0     0   \n",
       "2   0.0  ...        0       0  11.534490      0.0       0.0     0.0     0   \n",
       "3   0.0  ...        0       0  10.345630      0.0       0.0     0.0     0   \n",
       "4   0.0  ...        0       0   9.814432      0.0       1.0     0.0     0   \n",
       "\n",
       "   election  election_year  gdpgrowthrate  \n",
       "0       0.0         1928.0            0.0  \n",
       "1       1.0         1930.0           -8.5  \n",
       "2       0.0         1930.0           -6.4  \n",
       "3       1.0         1932.0          -12.9  \n",
       "4       0.0         1932.0           -1.2  \n",
       "\n",
       "[5 rows x 29 columns]"
      ]
     },
     "execution_count": 6,
     "metadata": {},
     "output_type": "execute_result"
    }
   ],
   "source": [
    "merged.head()"
   ]
  },
  {
   "cell_type": "code",
   "execution_count": 7,
   "metadata": {},
   "outputs": [
    {
     "data": {
      "image/png": "[encoded data removed]",
      "text/plain": [
       "<Figure size 432x288 with 1 Axes>"
      ]
     },
     "metadata": {
      "needs_background": "light"
     },
     "output_type": "display_data"
    }
   ],
   "source": [
    "hist_plot = df['gdpgrowthrate'].plot()"
   ]
  },
  {
   "cell_type": "code",
   "execution_count": 8,
   "metadata": {},
   "outputs": [
    {
     "data": {
      "text/plain": [
       "[<matplotlib.lines.Line2D at 0x2525e34e9b0>]"
      ]
     },
     "execution_count": 8,
     "metadata": {},
     "output_type": "execute_result"
    },
    {
     "data": {
      "image/png": "[encoded data removed]",
      "text/plain": [
       "<Figure size 1440x720 with 1 Axes>"
      ]
     },
     "metadata": {
      "needs_background": "light"
     },
     "output_type": "display_data"
    }
   ],
   "source": [
    "#Comparison of both Data sets\n",
    "plt.figure(figsize=(20,10))\n",
    "x = merged['year']\n",
    "y= merged['gdpgrowthrate']\n",
    "z=merged['rgdp']\n",
    "plt.xlabel('Year')\n",
    "plt.ylabel('GDP/growth rate')\n",
    "plt.bar(x,y)\n",
    "plt.plot(x,z)"
   ]
  },
  {
   "cell_type": "code",
   "execution_count": 9,
   "metadata": {},
   "outputs": [],
   "source": [
    "#Conversion of Data\n",
    "merged.loc[merged['gdpgrowthrate'] < 0, 'gdp_growth_rate'] = 0\n",
    "merged.loc[merged['gdpgrowthrate'] >= 0, 'gdp_growth_rate'] = 1"
   ]
  },
  {
   "cell_type": "code",
   "execution_count": 10,
   "metadata": {},
   "outputs": [
    {
     "data": {
      "text/html": [
       "<div>\n",
       "<style scoped>\n",
       "    .dataframe tbody tr th:only-of-type {\n",
       "        vertical-align: middle;\n",
       "    }\n",
       "\n",
       "    .dataframe tbody tr th {\n",
       "        vertical-align: top;\n",
       "    }\n",
       "\n",
       "    .dataframe thead th {\n",
       "        text-align: right;\n",
       "    }\n",
       "</style>\n",
       "<table border=\"1\" class=\"dataframe\">\n",
       "  <thead>\n",
       "    <tr style=\"text-align: right;\">\n",
       "      <th></th>\n",
       "      <th>year</th>\n",
       "      <th>rgdp</th>\n",
       "      <th>gdpgrowthrate</th>\n",
       "      <th>gdp_growth_rate</th>\n",
       "    </tr>\n",
       "  </thead>\n",
       "  <tbody>\n",
       "    <tr>\n",
       "      <th>78</th>\n",
       "      <td>2007</td>\n",
       "      <td>100.942612</td>\n",
       "      <td>1.9</td>\n",
       "      <td>1.0</td>\n",
       "    </tr>\n",
       "    <tr>\n",
       "      <th>79</th>\n",
       "      <td>2008</td>\n",
       "      <td>99.633270</td>\n",
       "      <td>-0.1</td>\n",
       "      <td>0.0</td>\n",
       "    </tr>\n",
       "    <tr>\n",
       "      <th>80</th>\n",
       "      <td>2009</td>\n",
       "      <td>95.279793</td>\n",
       "      <td>-2.5</td>\n",
       "      <td>0.0</td>\n",
       "    </tr>\n",
       "    <tr>\n",
       "      <th>81</th>\n",
       "      <td>2010</td>\n",
       "      <td>97.340813</td>\n",
       "      <td>2.6</td>\n",
       "      <td>1.0</td>\n",
       "    </tr>\n",
       "    <tr>\n",
       "      <th>82</th>\n",
       "      <td>2011</td>\n",
       "      <td>98.283226</td>\n",
       "      <td>1.6</td>\n",
       "      <td>1.0</td>\n",
       "    </tr>\n",
       "    <tr>\n",
       "      <th>83</th>\n",
       "      <td>2012</td>\n",
       "      <td>99.968275</td>\n",
       "      <td>2.2</td>\n",
       "      <td>1.0</td>\n",
       "    </tr>\n",
       "    <tr>\n",
       "      <th>84</th>\n",
       "      <td>2013</td>\n",
       "      <td>101.459977</td>\n",
       "      <td>1.8</td>\n",
       "      <td>1.0</td>\n",
       "    </tr>\n",
       "    <tr>\n",
       "      <th>85</th>\n",
       "      <td>2014</td>\n",
       "      <td>103.184820</td>\n",
       "      <td>2.5</td>\n",
       "      <td>1.0</td>\n",
       "    </tr>\n",
       "  </tbody>\n",
       "</table>\n",
       "</div>"
      ],
      "text/plain": [
       "    year        rgdp  gdpgrowthrate  gdp_growth_rate\n",
       "78  2007  100.942612            1.9              1.0\n",
       "79  2008   99.633270           -0.1              0.0\n",
       "80  2009   95.279793           -2.5              0.0\n",
       "81  2010   97.340813            2.6              1.0\n",
       "82  2011   98.283226            1.6              1.0\n",
       "83  2012   99.968275            2.2              1.0\n",
       "84  2013  101.459977            1.8              1.0\n",
       "85  2014  103.184820            2.5              1.0"
      ]
     },
     "execution_count": 10,
     "metadata": {},
     "output_type": "execute_result"
    }
   ],
   "source": [
    "merged[['year','rgdp','gdpgrowthrate','gdp_growth_rate']].tail(8)"
   ]
  },
  {
   "cell_type": "code",
   "execution_count": 11,
   "metadata": {},
   "outputs": [
    {
     "data": {
      "text/plain": [
       "Index(['ccode', 'iso', 'year', 'govvote', 'oppvote', 'frac', 'partycount',\n",
       "       'right', 'left', 'extr', 'protests', 'protestsdev', 'demosdev',\n",
       "       'riotsdev', 'strikesdev', 'rgdp', 'gdppeak', 'crisisJST', 'pk_fin',\n",
       "       'pk_norm', 'pk_dis', 'cpi', 'govcris', 'turnover', 'vetopl', 'dict',\n",
       "       'election', 'election_year', 'gdpgrowthrate', 'gdp_growth_rate'],\n",
       "      dtype='object')"
      ]
     },
     "execution_count": 11,
     "metadata": {},
     "output_type": "execute_result"
    }
   ],
   "source": [
    "merged_fill = merged.fillna(merged.median())\n",
    "merged_fill.columns"
   ]
  },
  {
   "cell_type": "code",
   "execution_count": 12,
   "metadata": {},
   "outputs": [],
   "source": [
    "#Predictors and Target Values\n",
    "feature_cols =['protests', 'protestsdev', 'demosdev',\n",
    "       'riotsdev', 'strikesdev', 'crisisJST', 'pk_fin',\n",
    "       'pk_norm', 'pk_dis', 'govcris', 'turnover']\n",
    "y = merged_fill.gdp_growth_rate\n",
    "X = merged_fill[feature_cols]"
   ]
  },
  {
   "cell_type": "code",
   "execution_count": 14,
   "metadata": {},
   "outputs": [],
   "source": [
    "#Train Test Split\n",
    "X_train, X_test, y_train, y_test = train_test_split( X, y, test_size = 0.3, random_state = 100)"
   ]
  },
  {
   "cell_type": "code",
   "execution_count": 15,
   "metadata": {},
   "outputs": [],
   "source": [
    "#Feature Selection\n",
    "clf=RandomForestClassifier(n_estimators=600)\n",
    "clf.fit(X_train,y_train)\n",
    "\n",
    "y_pred=clf.predict(X_test)"
   ]
  },
  {
   "cell_type": "code",
   "execution_count": 16,
   "metadata": {},
   "outputs": [
    {
     "name": "stdout",
     "output_type": "stream",
     "text": [
      "Accuracy: 0.7307692307692307\n",
      "strikesdev     0.343641\n",
      "protestsdev    0.157509\n",
      "riotsdev       0.155108\n",
      "demosdev       0.129878\n",
      "protests       0.102497\n",
      "turnover       0.058557\n",
      "pk_norm        0.021224\n",
      "govcris        0.016303\n",
      "crisisJST      0.007577\n",
      "pk_fin         0.005064\n",
      "pk_dis         0.002642\n",
      "dtype: float64\n"
     ]
    }
   ],
   "source": [
    "print(\"Accuracy with Random Forest :\",accuracy_score(y_test, y_pred))\n",
    "\n",
    "feature_imp = pd.Series(clf.feature_importances_,index=feature_cols).sort_values(ascending=False)\n",
    "print('Feature Importance')\n",
    "print(feature_imp)"
   ]
  },
  {
   "cell_type": "code",
   "execution_count": 17,
   "metadata": {},
   "outputs": [
    {
     "data": {
      "image/png": "[encoded data removed]",
      "text/plain": [
       "<Figure size 432x288 with 1 Axes>"
      ]
     },
     "metadata": {
      "needs_background": "light"
     },
     "output_type": "display_data"
    }
   ],
   "source": [
    "sns.barplot(x=feature_imp, y=feature_imp.index)\n",
    "plt.xlabel('Feature Importance Score')\n",
    "plt.ylabel('Features')\n",
    "plt.title(\"Visualizing Important Features\")\n",
    "plt.show()"
   ]
  },
  {
   "cell_type": "code",
   "execution_count": 18,
   "metadata": {},
   "outputs": [],
   "source": [
    "#Selected Features\n",
    "new_X = X[['strikesdev','riotsdev','protestsdev','demosdev']]\n",
    "X_train, X_test, y_train, y_test = train_test_split( new_X, y, test_size = 0.3, random_state = 100)"
   ]
  },
  {
   "cell_type": "code",
   "execution_count": 19,
   "metadata": {},
   "outputs": [],
   "source": [
    "from sklearn.neural_network import MLPClassifier, MLPRegressor\n",
    "from sklearn.metrics import mean_squared_error,confusion_matrix, precision_score, recall_score,auc,roc_curve,roc_auc_score,accuracy_score\n",
    "from sklearn.model_selection import train_test_split\n",
    "from sklearn.metrics import confusion_matrix"
   ]
  },
  {
   "cell_type": "code",
   "execution_count": 20,
   "metadata": {},
   "outputs": [
    {
     "name": "stderr",
     "output_type": "stream",
     "text": [
      "C:\\Users\\Aneeba\\Anaconda3\\lib\\site-packages\\sklearn\\linear_model\\logistic.py:433: FutureWarning: Default solver will be changed to 'lbfgs' in 0.22. Specify a solver to silence this warning.\n",
      "  FutureWarning)\n",
      "C:\\Users\\Aneeba\\Anaconda3\\lib\\site-packages\\sklearn\\ensemble\\forest.py:246: FutureWarning: The default value of n_estimators will change from 10 in version 0.20 to 100 in 0.22.\n",
      "  \"10 in version 0.20 to 100 in 0.22.\", FutureWarning)\n",
      "C:\\Users\\Aneeba\\Anaconda3\\lib\\site-packages\\sklearn\\svm\\base.py:196: FutureWarning: The default value of gamma will change from 'auto' to 'scale' in version 0.22 to account better for unscaled features. Set gamma explicitly to 'auto' or 'scale' to avoid this warning.\n",
      "  \"avoid this warning.\", FutureWarning)\n"
     ]
    },
    {
     "name": "stdout",
     "output_type": "stream",
     "text": [
      "Logistic Regression: 0.807692 \n",
      "Training score: 0.82\n",
      "Test score: 0.81\n",
      "RMSE: 0.44\n",
      "---\n",
      "KNN: 0.730769 \n",
      "Training score: 0.87\n",
      "Test score: 0.73\n",
      "RMSE: 0.52\n",
      "---\n",
      "Decision Tree: 0.769231 \n",
      "Training score: 0.98\n",
      "Test score: 0.77\n",
      "RMSE: 0.48\n",
      "---\n",
      "Naive Bayes: 0.653846 \n",
      "Training score: 0.82\n",
      "Test score: 0.65\n",
      "RMSE: 0.59\n",
      "---\n",
      "Random Forest: 0.692308 \n",
      "Training score: 0.95\n",
      "Test score: 0.69\n",
      "RMSE: 0.55\n",
      "---\n",
      "Support Vector Machine: 0.807692 \n",
      "Training score: 0.78\n",
      "Test score: 0.81\n",
      "RMSE: 0.44\n",
      "---\n",
      "Neural Network: 0.769231 \n",
      "Training score: 0.87\n",
      "Test score: 0.77\n",
      "RMSE: 0.48\n",
      "---\n"
     ]
    },
    {
     "name": "stderr",
     "output_type": "stream",
     "text": [
      "C:\\Users\\Aneeba\\Anaconda3\\lib\\site-packages\\sklearn\\neural_network\\multilayer_perceptron.py:562: ConvergenceWarning: Stochastic Optimizer: Maximum iterations (200) reached and the optimization hasn't converged yet.\n",
      "  % self.max_iter, ConvergenceWarning)\n"
     ]
    }
   ],
   "source": [
    "\n",
    "m = []\n",
    "m.append(('Logistic Regression', LogisticRegression()))\n",
    "m.append(('KNN', KNeighborsClassifier()))\n",
    "m.append(('Decision Tree', DecisionTreeClassifier(criterion=\"entropy\")))\n",
    "m.append(('Naive Bayes', GaussianNB()))\n",
    "m.append(('Random Forest', RandomForestClassifier()))\n",
    "m.append(('Support Vector Machine', SVC(probability=True)))\n",
    "m.append(('Neural Network', MLPClassifier()))\n",
    "\n",
    "\n",
    "names = []\n",
    "results = []\n",
    "train = []\n",
    "\n",
    "for name, model in m:\n",
    "    fittedModel = model.fit(X_train,y_train)\n",
    "    predictions = fittedModel.predict(X_test)\n",
    "    results.append(accuracy_score(y_test,predictions))\n",
    "    \n",
    "    names.append(name)\n",
    "    msg = \"%s: %f \" % (name, accuracy_score(y_test,predictions).mean())\n",
    "    print(msg)\n",
    "    print('Training score: {:.2f}'.format(fittedModel.score(X_train, y_train)))\n",
    "    print('Test score: {:.2f}'.format(fittedModel.score(X_test, y_test)))\n",
    "    train.append(fittedModel.score(X_train, y_train))\n",
    "    mse = mean_squared_error(y_test, predictions)\n",
    "    rmse = math.sqrt(mse)\n",
    "\n",
    "    print('RMSE: {:.2f}'.format(rmse))\n",
    "    print('---')\n",
    "    "
   ]
  },
  {
   "cell_type": "code",
   "execution_count": 21,
   "metadata": {},
   "outputs": [
    {
     "data": {
      "text/plain": [
       "Text(0.5, 1.0, 'Train and Test Accuracy')"
      ]
     },
     "execution_count": 21,
     "metadata": {},
     "output_type": "execute_result"
    },
    {
     "data": {
      "image/png": "[encoded data removed]",
      "text/plain": [
       "<Figure size 1080x576 with 1 Axes>"
      ]
     },
     "metadata": {
      "needs_background": "light"
     },
     "output_type": "display_data"
    }
   ],
   "source": [
    "#Bar Plots\n",
    "plt.figure(figsize=(15,8))\n",
    "plt.bar(names,train, color='g')\n",
    "plt.bar(names,results, color='grey')\n",
    "plt.title('Train and Test Accuracy')"
   ]
  },
  {
   "cell_type": "code",
   "execution_count": 22,
   "metadata": {},
   "outputs": [
    {
     "data": {
      "text/html": [
       "<div>\n",
       "<style scoped>\n",
       "    .dataframe tbody tr th:only-of-type {\n",
       "        vertical-align: middle;\n",
       "    }\n",
       "\n",
       "    .dataframe tbody tr th {\n",
       "        vertical-align: top;\n",
       "    }\n",
       "\n",
       "    .dataframe thead th {\n",
       "        text-align: right;\n",
       "    }\n",
       "</style>\n",
       "<table border=\"1\" class=\"dataframe\">\n",
       "  <thead>\n",
       "    <tr style=\"text-align: right;\">\n",
       "      <th></th>\n",
       "      <th>year</th>\n",
       "      <th>strikesdev</th>\n",
       "      <th>riotsdev</th>\n",
       "      <th>protestsdev</th>\n",
       "      <th>demosdev</th>\n",
       "      <th>gdp_growth_rate</th>\n",
       "    </tr>\n",
       "  </thead>\n",
       "  <tbody>\n",
       "    <tr>\n",
       "      <th>76</th>\n",
       "      <td>2005</td>\n",
       "      <td>-0.014437</td>\n",
       "      <td>-0.097584</td>\n",
       "      <td>1.099496</td>\n",
       "      <td>1.111314</td>\n",
       "      <td>1.0</td>\n",
       "    </tr>\n",
       "    <tr>\n",
       "      <th>77</th>\n",
       "      <td>2006</td>\n",
       "      <td>-0.007675</td>\n",
       "      <td>-0.102217</td>\n",
       "      <td>1.102877</td>\n",
       "      <td>1.114835</td>\n",
       "      <td>1.0</td>\n",
       "    </tr>\n",
       "    <tr>\n",
       "      <th>78</th>\n",
       "      <td>2007</td>\n",
       "      <td>0.013937</td>\n",
       "      <td>-0.056037</td>\n",
       "      <td>1.157816</td>\n",
       "      <td>1.165070</td>\n",
       "      <td>1.0</td>\n",
       "    </tr>\n",
       "    <tr>\n",
       "      <th>79</th>\n",
       "      <td>2008</td>\n",
       "      <td>0.058772</td>\n",
       "      <td>0.089692</td>\n",
       "      <td>1.295465</td>\n",
       "      <td>1.288008</td>\n",
       "      <td>0.0</td>\n",
       "    </tr>\n",
       "    <tr>\n",
       "      <th>80</th>\n",
       "      <td>2009</td>\n",
       "      <td>0.132978</td>\n",
       "      <td>0.392670</td>\n",
       "      <td>1.583530</td>\n",
       "      <td>1.545033</td>\n",
       "      <td>0.0</td>\n",
       "    </tr>\n",
       "    <tr>\n",
       "      <th>81</th>\n",
       "      <td>2010</td>\n",
       "      <td>0.233293</td>\n",
       "      <td>0.896245</td>\n",
       "      <td>2.104251</td>\n",
       "      <td>2.013256</td>\n",
       "      <td>1.0</td>\n",
       "    </tr>\n",
       "    <tr>\n",
       "      <th>82</th>\n",
       "      <td>2011</td>\n",
       "      <td>0.335185</td>\n",
       "      <td>1.580941</td>\n",
       "      <td>2.862283</td>\n",
       "      <td>2.698360</td>\n",
       "      <td>1.0</td>\n",
       "    </tr>\n",
       "    <tr>\n",
       "      <th>83</th>\n",
       "      <td>2012</td>\n",
       "      <td>0.376790</td>\n",
       "      <td>2.283879</td>\n",
       "      <td>3.636501</td>\n",
       "      <td>3.394812</td>\n",
       "      <td>1.0</td>\n",
       "    </tr>\n",
       "    <tr>\n",
       "      <th>84</th>\n",
       "      <td>2013</td>\n",
       "      <td>0.000000</td>\n",
       "      <td>0.000000</td>\n",
       "      <td>0.000000</td>\n",
       "      <td>0.000000</td>\n",
       "      <td>1.0</td>\n",
       "    </tr>\n",
       "    <tr>\n",
       "      <th>85</th>\n",
       "      <td>2014</td>\n",
       "      <td>0.000000</td>\n",
       "      <td>0.000000</td>\n",
       "      <td>0.000000</td>\n",
       "      <td>0.000000</td>\n",
       "      <td>1.0</td>\n",
       "    </tr>\n",
       "  </tbody>\n",
       "</table>\n",
       "</div>"
      ],
      "text/plain": [
       "    year  strikesdev  riotsdev  protestsdev  demosdev  gdp_growth_rate\n",
       "76  2005   -0.014437 -0.097584     1.099496  1.111314              1.0\n",
       "77  2006   -0.007675 -0.102217     1.102877  1.114835              1.0\n",
       "78  2007    0.013937 -0.056037     1.157816  1.165070              1.0\n",
       "79  2008    0.058772  0.089692     1.295465  1.288008              0.0\n",
       "80  2009    0.132978  0.392670     1.583530  1.545033              0.0\n",
       "81  2010    0.233293  0.896245     2.104251  2.013256              1.0\n",
       "82  2011    0.335185  1.580941     2.862283  2.698360              1.0\n",
       "83  2012    0.376790  2.283879     3.636501  3.394812              1.0\n",
       "84  2013    0.000000  0.000000     0.000000  0.000000              1.0\n",
       "85  2014    0.000000  0.000000     0.000000  0.000000              1.0"
      ]
     },
     "execution_count": 22,
     "metadata": {},
     "output_type": "execute_result"
    }
   ],
   "source": [
    "m=merged_fill.tail(10)\n",
    "m[['year','strikesdev','riotsdev','protestsdev','demosdev','gdp_growth_rate']]"
   ]
  },
  {
   "cell_type": "code",
   "execution_count": 23,
   "metadata": {},
   "outputs": [
    {
     "name": "stderr",
     "output_type": "stream",
     "text": [
      "C:\\Users\\Aneeba\\Anaconda3\\lib\\site-packages\\sklearn\\svm\\base.py:196: FutureWarning: The default value of gamma will change from 'auto' to 'scale' in version 0.22 to account better for unscaled features. Set gamma explicitly to 'auto' or 'scale' to avoid this warning.\n",
      "  \"avoid this warning.\", FutureWarning)\n"
     ]
    },
    {
     "data": {
      "text/plain": [
       "array([1.])"
      ]
     },
     "execution_count": 23,
     "metadata": {},
     "output_type": "execute_result"
    }
   ],
   "source": [
    "#lr = LogisticRegression(solver='lbfgs')\n",
    "nn=SVC(probability=True)\n",
    "log = nn.fit(X_train,y_train)\n",
    "#log.predict([[0.013937,-0.056037,1.157816,1.165070]])\n",
    "#log.predict([[0.058772,0.089692,1.295465,1.288008]])\n",
    "log.predict([[0.058772,0.089692,1.295465,1.288008]])"
   ]
  },
  {
   "cell_type": "code",
   "execution_count": null,
   "metadata": {},
   "outputs": [],
   "source": []
  },
  {
   "cell_type": "code",
   "execution_count": null,
   "metadata": {},
   "outputs": [],
   "source": []
  },
  {
   "cell_type": "code",
   "execution_count": null,
   "metadata": {},
   "outputs": [],
   "source": []
  },
  {
   "cell_type": "code",
   "execution_count": null,
   "metadata": {},
   "outputs": [],
   "source": []
  },
  {
   "cell_type": "code",
   "execution_count": null,
   "metadata": {},
   "outputs": [],
   "source": []
  },
  {
   "cell_type": "code",
   "execution_count": null,
   "metadata": {},
   "outputs": [],
   "source": []
  }
 ],
 "metadata": {
  "kernelspec": {
   "display_name": "Python 3",
   "language": "python",
   "name": "python3"
  },
  "language_info": {
   "codemirror_mode": {
    "name": "ipython",
    "version": 3
   },
   "file_extension": ".py",
   "mimetype": "text/x-python",
   "name": "python",
   "nbconvert_exporter": "python",
   "pygments_lexer": "ipython3",
   "version": "3.7.3"
  }
 },
 "nbformat": 4,
 "nbformat_minor": 2
}
