{
 "cells": [
  {
   "cell_type": "code",
   "execution_count": 2,
   "metadata": {},
   "outputs": [],
   "source": [
    "import pandas as pd\n",
    "import numpy as np\n",
    "import seaborn as sb\n",
    "from matplotlib import pyplot as plt\n",
    "from sklearn.naive_bayes import GaussianNB\n",
    "from sklearn.model_selection import train_test_split\n",
    "from sklearn.metrics import confusion_matrix\n",
    "from sklearn.metrics import accuracy_score\n",
    "from sklearn import preprocessing"
   ]
  },
  {
   "cell_type": "markdown",
   "metadata": {},
   "source": [
    "# Data Upload and Query"
   ]
  },
  {
   "cell_type": "code",
   "execution_count": 6,
   "metadata": {},
   "outputs": [],
   "source": [
    "df = pd.read_csv('aat1_csv.csv')\n",
    "df1 = pd.read_csv('dataset.csv')\n",
    "df_usa = df1[df1.iso == 'USA']\n",
    "df_usa_41_10 = df_usa[(df_usa.year >= 1941) & (df_usa.year <= 2010)]"
   ]
  },
  {
   "cell_type": "markdown",
   "metadata": {},
   "source": [
    "# Merge Data Frame"
   ]
  },
  {
   "cell_type": "code",
   "execution_count": 38,
   "metadata": {
    "scrolled": true
   },
   "outputs": [],
   "source": [
    "merged = pd.merge(df_usa_41_10, df, on='year')\n",
    "#merged.fillna(0)"
   ]
  },
  {
   "cell_type": "markdown",
   "metadata": {},
   "source": [
    "# Features and Target Values"
   ]
  },
  {
   "cell_type": "code",
   "execution_count": 41,
   "metadata": {},
   "outputs": [],
   "source": [
    "features = merged[['labor_force', 'employed_total','employed_percent','unemployed','unemployed_percent','population','not_in_labor']]\n",
    "targetVar = merged.pk_norm"
   ]
  },
  {
   "cell_type": "markdown",
   "metadata": {},
   "source": [
    "# Training Data and Gaussian Näive Bayes"
   ]
  },
  {
   "cell_type": "code",
   "execution_count": 42,
   "metadata": {},
   "outputs": [],
   "source": [
    "featureTrain, featureTest, targetTrain, targetTest = train_test_split(features,targetVar,test_size=0.3)\n",
    "model = GaussianNB()\n",
    "fittedModel = model.fit(featureTrain,targetTrain)\n",
    "predictions = fittedModel.predict(featureTest)"
   ]
  },
  {
   "cell_type": "markdown",
   "metadata": {},
   "source": [
    "# Confusion_matrix and"
   ]
  },
  {
   "cell_type": "code",
   "execution_count": 29,
   "metadata": {},
   "outputs": [
    {
     "name": "stdout",
     "output_type": "stream",
     "text": [
      "[[21  0]\n",
      " [ 1  0]]\n"
     ]
    }
   ],
   "source": [
    "print(confusion_matrix(targetTest,predictions))"
   ]
  },
  {
   "cell_type": "markdown",
   "metadata": {},
   "source": [
    "# Accuracy_score"
   ]
  },
  {
   "cell_type": "code",
   "execution_count": 30,
   "metadata": {},
   "outputs": [
    {
     "name": "stdout",
     "output_type": "stream",
     "text": [
      "0.9545454545454546\n"
     ]
    }
   ],
   "source": [
    "print(accuracy_score(targetTest,predictions))"
   ]
  },
  {
   "cell_type": "code",
   "execution_count": 12,
   "metadata": {},
   "outputs": [
    {
     "data": {
      "text/html": [
       "<div>\n",
       "<style scoped>\n",
       "    .dataframe tbody tr th:only-of-type {\n",
       "        vertical-align: middle;\n",
       "    }\n",
       "\n",
       "    .dataframe tbody tr th {\n",
       "        vertical-align: top;\n",
       "    }\n",
       "\n",
       "    .dataframe thead th {\n",
       "        text-align: right;\n",
       "    }\n",
       "</style>\n",
       "<table border=\"1\" class=\"dataframe\">\n",
       "  <thead>\n",
       "    <tr style=\"text-align: right;\">\n",
       "      <th></th>\n",
       "      <th>year</th>\n",
       "      <th>population</th>\n",
       "      <th>labor_force</th>\n",
       "      <th>population_percent</th>\n",
       "      <th>employed_total</th>\n",
       "      <th>employed_percent</th>\n",
       "      <th>agrictulture_ratio</th>\n",
       "      <th>nonagriculture_ratio</th>\n",
       "      <th>unemployed</th>\n",
       "      <th>unemployed_percent</th>\n",
       "      <th>not_in_labor</th>\n",
       "      <th>footnotes</th>\n",
       "    </tr>\n",
       "  </thead>\n",
       "  <tbody>\n",
       "    <tr>\n",
       "      <th>0</th>\n",
       "      <td>1941</td>\n",
       "      <td>99900</td>\n",
       "      <td>55910</td>\n",
       "      <td>56.0</td>\n",
       "      <td>50350</td>\n",
       "      <td>50.4</td>\n",
       "      <td>9100</td>\n",
       "      <td>41250</td>\n",
       "      <td>5560</td>\n",
       "      <td>9.9</td>\n",
       "      <td>43990</td>\n",
       "      <td>NaN</td>\n",
       "    </tr>\n",
       "    <tr>\n",
       "      <th>1</th>\n",
       "      <td>1942</td>\n",
       "      <td>98640</td>\n",
       "      <td>56410</td>\n",
       "      <td>57.2</td>\n",
       "      <td>53750</td>\n",
       "      <td>54.5</td>\n",
       "      <td>9250</td>\n",
       "      <td>44500</td>\n",
       "      <td>2660</td>\n",
       "      <td>4.7</td>\n",
       "      <td>42230</td>\n",
       "      <td>NaN</td>\n",
       "    </tr>\n",
       "    <tr>\n",
       "      <th>2</th>\n",
       "      <td>1943</td>\n",
       "      <td>94640</td>\n",
       "      <td>55540</td>\n",
       "      <td>58.7</td>\n",
       "      <td>54470</td>\n",
       "      <td>57.6</td>\n",
       "      <td>9080</td>\n",
       "      <td>45390</td>\n",
       "      <td>1070</td>\n",
       "      <td>1.9</td>\n",
       "      <td>39100</td>\n",
       "      <td>NaN</td>\n",
       "    </tr>\n",
       "    <tr>\n",
       "      <th>3</th>\n",
       "      <td>1944</td>\n",
       "      <td>93220</td>\n",
       "      <td>54630</td>\n",
       "      <td>58.6</td>\n",
       "      <td>53960</td>\n",
       "      <td>57.9</td>\n",
       "      <td>8950</td>\n",
       "      <td>45010</td>\n",
       "      <td>670</td>\n",
       "      <td>1.2</td>\n",
       "      <td>38590</td>\n",
       "      <td>NaN</td>\n",
       "    </tr>\n",
       "    <tr>\n",
       "      <th>4</th>\n",
       "      <td>1945</td>\n",
       "      <td>94090</td>\n",
       "      <td>53860</td>\n",
       "      <td>57.2</td>\n",
       "      <td>52820</td>\n",
       "      <td>56.1</td>\n",
       "      <td>8580</td>\n",
       "      <td>44240</td>\n",
       "      <td>1040</td>\n",
       "      <td>1.9</td>\n",
       "      <td>40230</td>\n",
       "      <td>NaN</td>\n",
       "    </tr>\n",
       "  </tbody>\n",
       "</table>\n",
       "</div>"
      ],
      "text/plain": [
       "   year  population  labor_force  population_percent  employed_total  \\\n",
       "0  1941       99900        55910                56.0           50350   \n",
       "1  1942       98640        56410                57.2           53750   \n",
       "2  1943       94640        55540                58.7           54470   \n",
       "3  1944       93220        54630                58.6           53960   \n",
       "4  1945       94090        53860                57.2           52820   \n",
       "\n",
       "   employed_percent  agrictulture_ratio  nonagriculture_ratio  unemployed  \\\n",
       "0              50.4                9100                 41250        5560   \n",
       "1              54.5                9250                 44500        2660   \n",
       "2              57.6                9080                 45390        1070   \n",
       "3              57.9                8950                 45010         670   \n",
       "4              56.1                8580                 44240        1040   \n",
       "\n",
       "   unemployed_percent  not_in_labor  footnotes  \n",
       "0                 9.9         43990        NaN  \n",
       "1                 4.7         42230        NaN  \n",
       "2                 1.9         39100        NaN  \n",
       "3                 1.2         38590        NaN  \n",
       "4                 1.9         40230        NaN  "
      ]
     },
     "execution_count": 12,
     "metadata": {},
     "output_type": "execute_result"
    }
   ],
   "source": [
    "df.head()"
   ]
  },
  {
   "cell_type": "code",
   "execution_count": 26,
   "metadata": {},
   "outputs": [
    {
     "data": {
      "text/html": [
       "<div>\n",
       "<style scoped>\n",
       "    .dataframe tbody tr th:only-of-type {\n",
       "        vertical-align: middle;\n",
       "    }\n",
       "\n",
       "    .dataframe tbody tr th {\n",
       "        vertical-align: top;\n",
       "    }\n",
       "\n",
       "    .dataframe thead th {\n",
       "        text-align: right;\n",
       "    }\n",
       "</style>\n",
       "<table border=\"1\" class=\"dataframe\">\n",
       "  <thead>\n",
       "    <tr style=\"text-align: right;\">\n",
       "      <th></th>\n",
       "      <th>ccode</th>\n",
       "      <th>iso</th>\n",
       "      <th>year</th>\n",
       "      <th>govvote</th>\n",
       "      <th>oppvote</th>\n",
       "      <th>frac</th>\n",
       "      <th>partycount</th>\n",
       "      <th>right</th>\n",
       "      <th>left</th>\n",
       "      <th>extr</th>\n",
       "      <th>...</th>\n",
       "      <th>pk_fin</th>\n",
       "      <th>pk_norm</th>\n",
       "      <th>pk_dis</th>\n",
       "      <th>cpi</th>\n",
       "      <th>govcris</th>\n",
       "      <th>turnover</th>\n",
       "      <th>vetopl</th>\n",
       "      <th>dict</th>\n",
       "      <th>election</th>\n",
       "      <th>election_year</th>\n",
       "    </tr>\n",
       "  </thead>\n",
       "  <tbody>\n",
       "    <tr>\n",
       "      <th>0</th>\n",
       "      <td>1</td>\n",
       "      <td>AUS</td>\n",
       "      <td>1870</td>\n",
       "      <td>NaN</td>\n",
       "      <td>NaN</td>\n",
       "      <td>NaN</td>\n",
       "      <td>NaN</td>\n",
       "      <td>NaN</td>\n",
       "      <td>NaN</td>\n",
       "      <td>NaN</td>\n",
       "      <td>...</td>\n",
       "      <td>0</td>\n",
       "      <td>0</td>\n",
       "      <td>0</td>\n",
       "      <td>NaN</td>\n",
       "      <td>NaN</td>\n",
       "      <td>NaN</td>\n",
       "      <td>NaN</td>\n",
       "      <td>0</td>\n",
       "      <td>NaN</td>\n",
       "      <td>NaN</td>\n",
       "    </tr>\n",
       "    <tr>\n",
       "      <th>1</th>\n",
       "      <td>1</td>\n",
       "      <td>AUS</td>\n",
       "      <td>1871</td>\n",
       "      <td>NaN</td>\n",
       "      <td>NaN</td>\n",
       "      <td>NaN</td>\n",
       "      <td>NaN</td>\n",
       "      <td>NaN</td>\n",
       "      <td>NaN</td>\n",
       "      <td>NaN</td>\n",
       "      <td>...</td>\n",
       "      <td>0</td>\n",
       "      <td>0</td>\n",
       "      <td>0</td>\n",
       "      <td>NaN</td>\n",
       "      <td>NaN</td>\n",
       "      <td>NaN</td>\n",
       "      <td>NaN</td>\n",
       "      <td>0</td>\n",
       "      <td>NaN</td>\n",
       "      <td>NaN</td>\n",
       "    </tr>\n",
       "    <tr>\n",
       "      <th>2</th>\n",
       "      <td>1</td>\n",
       "      <td>AUS</td>\n",
       "      <td>1872</td>\n",
       "      <td>NaN</td>\n",
       "      <td>NaN</td>\n",
       "      <td>NaN</td>\n",
       "      <td>NaN</td>\n",
       "      <td>NaN</td>\n",
       "      <td>NaN</td>\n",
       "      <td>NaN</td>\n",
       "      <td>...</td>\n",
       "      <td>0</td>\n",
       "      <td>0</td>\n",
       "      <td>0</td>\n",
       "      <td>NaN</td>\n",
       "      <td>NaN</td>\n",
       "      <td>NaN</td>\n",
       "      <td>NaN</td>\n",
       "      <td>0</td>\n",
       "      <td>NaN</td>\n",
       "      <td>NaN</td>\n",
       "    </tr>\n",
       "    <tr>\n",
       "      <th>3</th>\n",
       "      <td>1</td>\n",
       "      <td>AUS</td>\n",
       "      <td>1873</td>\n",
       "      <td>NaN</td>\n",
       "      <td>NaN</td>\n",
       "      <td>NaN</td>\n",
       "      <td>NaN</td>\n",
       "      <td>NaN</td>\n",
       "      <td>NaN</td>\n",
       "      <td>NaN</td>\n",
       "      <td>...</td>\n",
       "      <td>0</td>\n",
       "      <td>0</td>\n",
       "      <td>0</td>\n",
       "      <td>NaN</td>\n",
       "      <td>NaN</td>\n",
       "      <td>NaN</td>\n",
       "      <td>NaN</td>\n",
       "      <td>0</td>\n",
       "      <td>NaN</td>\n",
       "      <td>NaN</td>\n",
       "    </tr>\n",
       "    <tr>\n",
       "      <th>4</th>\n",
       "      <td>1</td>\n",
       "      <td>AUS</td>\n",
       "      <td>1874</td>\n",
       "      <td>NaN</td>\n",
       "      <td>NaN</td>\n",
       "      <td>NaN</td>\n",
       "      <td>NaN</td>\n",
       "      <td>NaN</td>\n",
       "      <td>NaN</td>\n",
       "      <td>NaN</td>\n",
       "      <td>...</td>\n",
       "      <td>0</td>\n",
       "      <td>0</td>\n",
       "      <td>0</td>\n",
       "      <td>NaN</td>\n",
       "      <td>NaN</td>\n",
       "      <td>NaN</td>\n",
       "      <td>NaN</td>\n",
       "      <td>0</td>\n",
       "      <td>NaN</td>\n",
       "      <td>NaN</td>\n",
       "    </tr>\n",
       "  </tbody>\n",
       "</table>\n",
       "<p>5 rows × 28 columns</p>\n",
       "</div>"
      ],
      "text/plain": [
       "   ccode  iso  year  govvote  oppvote  frac  partycount  right  left  extr  \\\n",
       "0      1  AUS  1870      NaN      NaN   NaN         NaN    NaN   NaN   NaN   \n",
       "1      1  AUS  1871      NaN      NaN   NaN         NaN    NaN   NaN   NaN   \n",
       "2      1  AUS  1872      NaN      NaN   NaN         NaN    NaN   NaN   NaN   \n",
       "3      1  AUS  1873      NaN      NaN   NaN         NaN    NaN   NaN   NaN   \n",
       "4      1  AUS  1874      NaN      NaN   NaN         NaN    NaN   NaN   NaN   \n",
       "\n",
       "   ...  pk_fin  pk_norm  pk_dis  cpi  govcris  turnover  vetopl  dict  \\\n",
       "0  ...       0        0       0  NaN      NaN       NaN     NaN     0   \n",
       "1  ...       0        0       0  NaN      NaN       NaN     NaN     0   \n",
       "2  ...       0        0       0  NaN      NaN       NaN     NaN     0   \n",
       "3  ...       0        0       0  NaN      NaN       NaN     NaN     0   \n",
       "4  ...       0        0       0  NaN      NaN       NaN     NaN     0   \n",
       "\n",
       "   election  election_year  \n",
       "0       NaN            NaN  \n",
       "1       NaN            NaN  \n",
       "2       NaN            NaN  \n",
       "3       NaN            NaN  \n",
       "4       NaN            NaN  \n",
       "\n",
       "[5 rows x 28 columns]"
      ]
     },
     "execution_count": 26,
     "metadata": {},
     "output_type": "execute_result"
    }
   ],
   "source": [
    "df1.head()"
   ]
  },
  {
   "cell_type": "code",
   "execution_count": null,
   "metadata": {},
   "outputs": [],
   "source": []
  }
 ],
 "metadata": {
  "kernelspec": {
   "display_name": "Python 3",
   "language": "python",
   "name": "python3"
  },
  "language_info": {
   "codemirror_mode": {
    "name": "ipython",
    "version": 3
   },
   "file_extension": ".py",
   "mimetype": "text/x-python",
   "name": "python",
   "nbconvert_exporter": "python",
   "pygments_lexer": "ipython3",
   "version": "3.7.3"
  }
 },
 "nbformat": 4,
 "nbformat_minor": 2
}
